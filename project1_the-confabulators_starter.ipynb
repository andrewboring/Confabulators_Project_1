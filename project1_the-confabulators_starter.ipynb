{
 "cells": [
  {
   "cell_type": "markdown",
   "metadata": {},
   "source": [
    "# Coffee and Productivity\n",
    "\n",
    "Does coffee consumption in a population correlate with higher productivity as measured in GDP per hour worked?\n",
    "\n",
    "Background: On an individual level, consumption of coffee and its active ingredient, caffeine (a stimulant), is associated with higher levels of “energy” and “productivity”. But in a given population, such as a nation-state, does higher coffee consumption indicate a higher level of productivity? \n"
   ]
  },
  {
   "cell_type": "code",
   "execution_count": 1,
   "metadata": {},
   "outputs": [
    {
     "data": {
      "text/plain": [
       "Index(['Country Name', 'Year', 'Coffee Consumed', 'MEASURE',\n",
       "       'gdp_per_hour_worked ($)', ' gdp_for_year ($) ', 'gdp_per_capita ($)',\n",
       "       'population', 'Unemployed (%)', 'Coffee Consumed in KG',\n",
       "       'Coffee Consumed per Capita in Kg'],\n",
       "      dtype='object')"
      ]
     },
     "execution_count": 1,
     "metadata": {},
     "output_type": "execute_result"
    }
   ],
   "source": [
    "# Dependencies and Setup\n",
    "%matplotlib inline\n",
    "import matplotlib.pyplot as plt\n",
    "import pandas as pd\n",
    "import numpy as np\n",
    "import seaborn as sns\n",
    "\n",
    "# Hide warning messages in notebook\n",
    "import warnings\n",
    "warnings.filterwarnings('ignore')\n",
    "\n",
    "# File to Load (Remember to Change These)\n",
    "coffee_data_to_load = \"data/project_data.csv\"\n",
    "\n",
    "# Read the Data\n",
    "coffee_data = pd.read_csv(coffee_data_to_load)\n",
    "\n",
    "#coffee_data.tail()\n",
    "coffee_data.head()\n",
    "coffee_data.columns\n",
    "# plt.rcParams[\"figure.figsize\"] = 16,9\n"
   ]
  },
  {
   "cell_type": "markdown",
   "metadata": {},
   "source": [
    "## 1-1. World Coffee Consumption by Year: Does World Consume More Coffee Over Time?\n",
    "mean coffee consumption by year (line graph) - \n",
    "x axis = year\n",
    "y axis = coffee amount\n",
    "Karen"
   ]
  },
  {
   "cell_type": "code",
   "execution_count": null,
   "metadata": {},
   "outputs": [],
   "source": []
  },
  {
   "cell_type": "markdown",
   "metadata": {},
   "source": [
    "## 1-2. Coffee Consumption Trend by Country: How Much Coffee Is Consumed by Year (in Total)?\n",
    "use project_data.csv to generate the plot. (line graph) - mean by year. Plot in line.\n",
    "Karen"
   ]
  },
  {
   "cell_type": "code",
   "execution_count": null,
   "metadata": {},
   "outputs": [],
   "source": []
  },
  {
   "cell_type": "markdown",
   "metadata": {},
   "source": [
    "## 3-1. Overall Productivity Trend: Does Productivity Grow by Year? (Growth in labour productivity indicates a higher level of output for every hour worked)\n",
    "mean productivity (line plot)\n",
    "x axis = year\n",
    "y axis = GDPhrwkd\n",
    "Jin"
   ]
  },
  {
   "cell_type": "code",
   "execution_count": null,
   "metadata": {},
   "outputs": [],
   "source": []
  },
  {
   "cell_type": "markdown",
   "metadata": {},
   "source": [
    "\n",
    "## 3-2. Productivity Trend by Country: How Does Productivity Change by Country Over Time?\n",
    "use project_data.csv to generate the plot. (line graph)  - GDP per hour worked\n",
    "Jin"
   ]
  },
  {
   "cell_type": "code",
   "execution_count": null,
   "metadata": {},
   "outputs": [],
   "source": []
  },
  {
   "cell_type": "markdown",
   "metadata": {},
   "source": [
    "## 2. Top Coffee Drinking Nations (per Capita, kg or lb): Which Country Drinks Coffee the Most per Person in 20XX?\n",
    "use project_data.csv to generate the plot. (bar graph) - top 10? \n",
    "Srini"
   ]
  },
  {
   "cell_type": "code",
   "execution_count": 2,
   "metadata": {},
   "outputs": [
    {
     "data": {
      "text/html": [
       "<div>\n",
       "<style scoped>\n",
       "    .dataframe tbody tr th:only-of-type {\n",
       "        vertical-align: middle;\n",
       "    }\n",
       "\n",
       "    .dataframe tbody tr th {\n",
       "        vertical-align: top;\n",
       "    }\n",
       "\n",
       "    .dataframe thead th {\n",
       "        text-align: right;\n",
       "    }\n",
       "</style>\n",
       "<table border=\"1\" class=\"dataframe\">\n",
       "  <thead>\n",
       "    <tr style=\"text-align: right;\">\n",
       "      <th></th>\n",
       "      <th>Country Name</th>\n",
       "      <th>Year</th>\n",
       "      <th>Coffee Consumed</th>\n",
       "      <th>gdp_per_hour_worked ($)</th>\n",
       "      <th>gdp_per_capita ($)</th>\n",
       "      <th>population</th>\n",
       "      <th>Unemployed (%)</th>\n",
       "      <th>Coffee Consumed in KG</th>\n",
       "      <th>Coffee Consumed per Capita in Kg</th>\n",
       "    </tr>\n",
       "  </thead>\n",
       "  <tbody>\n",
       "    <tr>\n",
       "      <th>0</th>\n",
       "      <td>Luxembourg</td>\n",
       "      <td>2006.0</td>\n",
       "      <td>199.533333</td>\n",
       "      <td>79.121716</td>\n",
       "      <td>90460.266667</td>\n",
       "      <td>4.496169e+05</td>\n",
       "      <td>4.113333</td>\n",
       "      <td>11972000.0</td>\n",
       "      <td>26.423295</td>\n",
       "    </tr>\n",
       "    <tr>\n",
       "      <th>1</th>\n",
       "      <td>Finland</td>\n",
       "      <td>2006.0</td>\n",
       "      <td>1039.466667</td>\n",
       "      <td>48.167631</td>\n",
       "      <td>42034.133333</td>\n",
       "      <td>4.988896e+06</td>\n",
       "      <td>8.326667</td>\n",
       "      <td>62368000.0</td>\n",
       "      <td>12.495654</td>\n",
       "    </tr>\n",
       "    <tr>\n",
       "      <th>2</th>\n",
       "      <td>Norway</td>\n",
       "      <td>2006.0</td>\n",
       "      <td>727.866667</td>\n",
       "      <td>76.472931</td>\n",
       "      <td>75436.600000</td>\n",
       "      <td>4.412433e+06</td>\n",
       "      <td>3.506667</td>\n",
       "      <td>43672000.0</td>\n",
       "      <td>9.906478</td>\n",
       "    </tr>\n",
       "    <tr>\n",
       "      <th>3</th>\n",
       "      <td>Denmark</td>\n",
       "      <td>2006.0</td>\n",
       "      <td>791.400000</td>\n",
       "      <td>57.955926</td>\n",
       "      <td>52241.400000</td>\n",
       "      <td>5.125666e+06</td>\n",
       "      <td>5.386667</td>\n",
       "      <td>47484000.0</td>\n",
       "      <td>9.271576</td>\n",
       "    </tr>\n",
       "    <tr>\n",
       "      <th>4</th>\n",
       "      <td>Sweden</td>\n",
       "      <td>2006.0</td>\n",
       "      <td>1210.200000</td>\n",
       "      <td>50.455248</td>\n",
       "      <td>47306.200000</td>\n",
       "      <td>8.637735e+06</td>\n",
       "      <td>6.973333</td>\n",
       "      <td>72612000.0</td>\n",
       "      <td>8.414779</td>\n",
       "    </tr>\n",
       "    <tr>\n",
       "      <th>5</th>\n",
       "      <td>Switzerland</td>\n",
       "      <td>2006.0</td>\n",
       "      <td>950.200000</td>\n",
       "      <td>54.612935</td>\n",
       "      <td>63836.666667</td>\n",
       "      <td>7.174788e+06</td>\n",
       "      <td>3.746667</td>\n",
       "      <td>57012000.0</td>\n",
       "      <td>7.928225</td>\n",
       "    </tr>\n",
       "    <tr>\n",
       "      <th>6</th>\n",
       "      <td>Austria</td>\n",
       "      <td>2006.0</td>\n",
       "      <td>947.733333</td>\n",
       "      <td>48.941178</td>\n",
       "      <td>41673.933333</td>\n",
       "      <td>7.833810e+06</td>\n",
       "      <td>4.306667</td>\n",
       "      <td>56864000.0</td>\n",
       "      <td>7.254740</td>\n",
       "    </tr>\n",
       "    <tr>\n",
       "      <th>7</th>\n",
       "      <td>Germany</td>\n",
       "      <td>2006.0</td>\n",
       "      <td>9190.266667</td>\n",
       "      <td>54.533775</td>\n",
       "      <td>37770.733333</td>\n",
       "      <td>7.847162e+07</td>\n",
       "      <td>8.066667</td>\n",
       "      <td>551416000.0</td>\n",
       "      <td>7.027299</td>\n",
       "    </tr>\n",
       "    <tr>\n",
       "      <th>8</th>\n",
       "      <td>Belgium</td>\n",
       "      <td>2006.0</td>\n",
       "      <td>1110.466667</td>\n",
       "      <td>60.540606</td>\n",
       "      <td>39631.266667</td>\n",
       "      <td>1.000976e+07</td>\n",
       "      <td>7.720000</td>\n",
       "      <td>66628000.0</td>\n",
       "      <td>6.672928</td>\n",
       "    </tr>\n",
       "    <tr>\n",
       "      <th>9</th>\n",
       "      <td>Netherlands</td>\n",
       "      <td>2006.0</td>\n",
       "      <td>1609.066667</td>\n",
       "      <td>58.151039</td>\n",
       "      <td>44997.200000</td>\n",
       "      <td>1.538864e+07</td>\n",
       "      <td>3.873333</td>\n",
       "      <td>96544000.0</td>\n",
       "      <td>6.289011</td>\n",
       "    </tr>\n",
       "  </tbody>\n",
       "</table>\n",
       "</div>"
      ],
      "text/plain": [
       "  Country Name    Year  Coffee Consumed  gdp_per_hour_worked ($)  \\\n",
       "0   Luxembourg  2006.0       199.533333                79.121716   \n",
       "1      Finland  2006.0      1039.466667                48.167631   \n",
       "2       Norway  2006.0       727.866667                76.472931   \n",
       "3      Denmark  2006.0       791.400000                57.955926   \n",
       "4       Sweden  2006.0      1210.200000                50.455248   \n",
       "5  Switzerland  2006.0       950.200000                54.612935   \n",
       "6      Austria  2006.0       947.733333                48.941178   \n",
       "7      Germany  2006.0      9190.266667                54.533775   \n",
       "8      Belgium  2006.0      1110.466667                60.540606   \n",
       "9  Netherlands  2006.0      1609.066667                58.151039   \n",
       "\n",
       "   gdp_per_capita ($)    population  Unemployed (%)  Coffee Consumed in KG  \\\n",
       "0        90460.266667  4.496169e+05        4.113333             11972000.0   \n",
       "1        42034.133333  4.988896e+06        8.326667             62368000.0   \n",
       "2        75436.600000  4.412433e+06        3.506667             43672000.0   \n",
       "3        52241.400000  5.125666e+06        5.386667             47484000.0   \n",
       "4        47306.200000  8.637735e+06        6.973333             72612000.0   \n",
       "5        63836.666667  7.174788e+06        3.746667             57012000.0   \n",
       "6        41673.933333  7.833810e+06        4.306667             56864000.0   \n",
       "7        37770.733333  7.847162e+07        8.066667            551416000.0   \n",
       "8        39631.266667  1.000976e+07        7.720000             66628000.0   \n",
       "9        44997.200000  1.538864e+07        3.873333             96544000.0   \n",
       "\n",
       "   Coffee Consumed per Capita in Kg  \n",
       "0                         26.423295  \n",
       "1                         12.495654  \n",
       "2                          9.906478  \n",
       "3                          9.271576  \n",
       "4                          8.414779  \n",
       "5                          7.928225  \n",
       "6                          7.254740  \n",
       "7                          7.027299  \n",
       "8                          6.672928  \n",
       "9                          6.289011  "
      ]
     },
     "execution_count": 2,
     "metadata": {},
     "output_type": "execute_result"
    }
   ],
   "source": [
    "# Top 10 cofee drinking nations\n",
    "group_by_country = coffee_data.groupby([\"Country Name\"])\n",
    "#Mean of all values by country\n",
    "mean_values_country = group_by_country.mean()\n",
    "mean_values_country_df = pd.DataFrame(mean_values_country)\n",
    "# Top 10 countries copee per capita\n",
    "top_coffee_pc = mean_values_country_df.sort_values(\"Coffee Consumed per Capita in Kg\", ascending = False)\\\n",
    ".head(10).reset_index()\n",
    "top_coffee_pc"
   ]
  },
  {
   "cell_type": "code",
   "execution_count": 3,
   "metadata": {},
   "outputs": [
    {
     "data": {
      "image/png": "[encoded data removed]",
      "text/plain": [
       "<Figure size 1440x576 with 1 Axes>"
      ]
     },
     "metadata": {
      "needs_background": "light"
     },
     "output_type": "display_data"
    }
   ],
   "source": [
    "#top 10 Coffee drinking per capita graph\n",
    "plt.figure(figsize=(20,8))\n",
    "sns.set(style=\"whitegrid\")\n",
    "g=sns.barplot(x='Country Name',y='Coffee Consumed per Capita in Kg',data=top_coffee_pc, palette=\"Blues_d\")\n",
    "plt.xticks(rotation=45)\n",
    "plt.title(\"Top 10 Countries By Cofee Consumed Per Capita in Kgs\", size =20)\n",
    "plt.savefig(\"Top_10_Coffee.png\")\n",
    "plt.show()"
   ]
  },
  {
   "cell_type": "markdown",
   "metadata": {},
   "source": [
    "## 4. Top Productivity Countries in 20XX: Which Countries Show Higher Productivity Compare to Other Countries?\n",
    "use project_data.csv to generate the plot. (bubble plot)\n",
    "x axis = countries\n",
    "y axis = productivity (GDPhrworkd)\n",
    "bar graph or scatter plot\n",
    "all countries in data\n",
    "Srini"
   ]
  },
  {
   "cell_type": "code",
   "execution_count": 21,
   "metadata": {},
   "outputs": [
    {
     "data": {
      "image/png": "[encoded data removed]",
      "text/plain": [
       "<Figure size 1440x576 with 1 Axes>"
      ]
     },
     "metadata": {},
     "output_type": "display_data"
    }
   ],
   "source": [
    "# Top 10 productivity countries per capita\n",
    "top_productivity_pc = mean_values_country_df.sort_values(\"gdp_per_hour_worked ($)\", ascending = False)\\\n",
    ".head(10).reset_index()\n",
    "top_productivity_pc\n",
    "#top 10 Coffee drinking per person graph\n",
    "sns.set(style=\"whitegrid\")\n",
    "plt.figure(figsize=(20,8))\n",
    "g=sns.barplot(x='Country Name',y='gdp_per_hour_worked ($)',data=top_productivity_pc, palette=\"Greens_d\")\n",
    "plt.xticks(rotation=45)\n",
    "#plt.grid(True)\n",
    "plt.title('Top 10 Countries By Productivity GDP Per Hour Worked', size =20)\n",
    "plt.savefig(\"Top_10_Productive.png\")\n",
    "plt.show()"
   ]
  },
  {
   "cell_type": "code",
   "execution_count": 61,
   "metadata": {},
   "outputs": [
    {
     "ename": "SyntaxError",
     "evalue": "invalid syntax (<ipython-input-61-1e06a62b44d4>, line 13)",
     "output_type": "error",
     "traceback": [
      "\u001b[0;36m  File \u001b[0;32m\"<ipython-input-61-1e06a62b44d4>\"\u001b[0;36m, line \u001b[0;32m13\u001b[0m\n\u001b[0;31m    g.text(row.name,row.tip,round(row.['gdp_per_hour_worked ($)'],2), color='black', ha=\"center\")\u001b[0m\n\u001b[0m                                      ^\u001b[0m\n\u001b[0;31mSyntaxError\u001b[0m\u001b[0;31m:\u001b[0m invalid syntax\n"
     ]
    }
   ],
   "source": [
    "# Top 10 productive nations\n",
    "group_by_country = coffee_data.groupby([\"Country Name\"])\n",
    "\n",
    "# Mean productivity by coungry\n",
    "productivity_per_person = group_by_country[\"gdp_per_hour_worked ($)\"].mean()\n",
    "productivity_per_person_df = pd.DataFrame(productivity_per_person)\n",
    "#productivity_per_person_df.head()\n",
    "top_productive = productivity_per_person_df.sort_values(\"gdp_per_hour_worked ($)\",\\\n",
    "                                                        ascending = False).head(10).reset_index()\n",
    "#top_productive\n",
    "plt.figure(figsize=(20,8))\n",
    "g=sns.barplot(x='Country Name',y='gdp_per_hour_worked ($)',data=top_productive, palette=\"Blues_d\")\n",
    "\n",
    "for index, row in top_productive.iterrows():\n",
    "    g.text(row.name,row.tip,round(row.['gdp_per_hour_worked ($)'],2), color='black', ha=\"center\")\n",
    "plt.title('Top 10 Countries By Productivity')\n",
    "plt.savefig(\"Top_10_Productive.png\")\n",
    "plt.show()"
   ]
  },
  {
   "cell_type": "markdown",
   "metadata": {},
   "source": [
    "## 5-1. Correlation Between Coffee Consumption and Productivity: Does the amount of Coffee Consumption affect Productivity among countries? (Pick a certain year, ex: 2013)\n",
    "use project_data.csv to generate the plot. (bubble plot and regression)\n",
    "x axis = country\n",
    "y axis = GPDhrwkd\n",
    "bubble size coffee consumption?\n",
    "(maybe swap y axis and bubble size?)\n",
    "maybe a whisker plot - how far away from mean?\n",
    "total consumption and total GDPhrwkd for selected years (pick maybe two or three to compare?)\n",
    "Michael"
   ]
  },
  {
   "cell_type": "code",
   "execution_count": null,
   "metadata": {},
   "outputs": [],
   "source": []
  },
  {
   "cell_type": "markdown",
   "metadata": {},
   "source": [
    "## 5-2. Correlation of Changes in Coffee Consumption and Productivity: Does the Changes in the Coffee Consumption Correlated with the Changes in Productivity throughout Certain period? (dynamic analysis, Pick countries which show bigger changes in values) \n",
    "use project_data.csv to generate the plot. (scatter plot and regression)\n",
    "\n",
    "x axis = country \n",
    "y axis = gdphrwkd\n",
    "calculate the increased/decreased value of consumption\n",
    "calculate the increased/decreased value of GDPhrwkd\n",
    "ex: all years or 10 years (if plot is too busy) or in some increment (2 years, 5 years)?\n",
    "look for dramatic changes\n",
    "Michael\n"
   ]
  },
  {
   "cell_type": "code",
   "execution_count": null,
   "metadata": {},
   "outputs": [],
   "source": []
  },
  {
   "cell_type": "markdown",
   "metadata": {},
   "source": [
    "## 6-1. Correlation Between Coffee Consumption and Productivity: Is P-Value < 0.05 and Can We Reject Null-Hypothesis(H0)? (Hypothesis Test)\n",
    "P-Value graph\n",
    "this assumes a single year in 5-1\n",
    "Andrew"
   ]
  },
  {
   "cell_type": "code",
   "execution_count": null,
   "metadata": {},
   "outputs": [],
   "source": []
  },
  {
   "cell_type": "markdown",
   "metadata": {},
   "source": [
    "## 6-2. Correlation Between the Changes in the Coffee Consumption and the Changes in Productivity: Is P-Value < 0.05 and Can We Reject Null-Hypothesis(H0)? (Hypothesis Test)\n",
    "\n",
    "Different from 6-1. \n",
    "This is for the \"rate of change\" in 5-2\n",
    "Andrew"
   ]
  },
  {
   "cell_type": "code",
   "execution_count": null,
   "metadata": {},
   "outputs": [],
   "source": []
  },
  {
   "cell_type": "markdown",
   "metadata": {},
   "source": [
    "## 7. Correlation Between Coffee Consumption and Unemployment: A question needs to be defined (optional)\n",
    "use project_data.csv to generate the plot. \n"
   ]
  },
  {
   "cell_type": "code",
   "execution_count": null,
   "metadata": {},
   "outputs": [],
   "source": []
  },
  {
   "cell_type": "markdown",
   "metadata": {},
   "source": [
    "## 8. World Coffee Major Producers as % of World: Which Countries Produce Coffee? (optional)\n",
    "use exports data from www.ico.org/new_historical.asp to generate the plot.(pie chart or bubble map??)"
   ]
  },
  {
   "cell_type": "code",
   "execution_count": null,
   "metadata": {},
   "outputs": [],
   "source": []
  },
  {
   "cell_type": "markdown",
   "metadata": {},
   "source": [
    "## Conclusions\n",
    "Summary of findings - Andrew"
   ]
  },
  {
   "cell_type": "code",
   "execution_count": null,
   "metadata": {},
   "outputs": [],
   "source": []
  },
  {
   "cell_type": "code",
   "execution_count": null,
   "metadata": {},
   "outputs": [],
   "source": [
    "# DATA Source\n",
    "http://www.ico.org/new_historical.asp\n",
    "https://knoema.com/search?query=coffee&source=HomePage\n",
    "https://www.worldatlas.com/articles/top-10-coffee-consuming-nations.html\n",
    "https://fusiontables.google.com/DataSource?docid=1C-fn6nSe21acP0xJIO1T1x0wohqfMYCQyJjbqdk#rows:id=1\n",
    "https://data.oecd.org/lprdty/gdp-per-hour-worked.htm\n",
    "https://www.oecd-ilibrary.org/employment/data/oecd-productivity-statistics/gdp-per-capita-and-productivity-growth_data-00685-en"
   ]
  }
 ],
 "metadata": {
  "kernelspec": {
   "display_name": "Python 3",
   "language": "python",
   "name": "python3"
  },
  "language_info": {
   "codemirror_mode": {
    "name": "ipython",
    "version": 3
   },
   "file_extension": ".py",
   "mimetype": "text/x-python",
   "name": "python",
   "nbconvert_exporter": "python",
   "pygments_lexer": "ipython3",
   "version": "3.7.0"
  }
 },
 "nbformat": 4,
 "nbformat_minor": 2
}
