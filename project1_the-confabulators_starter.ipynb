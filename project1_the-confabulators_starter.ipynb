{
 "cells": [
  {
   "cell_type": "markdown",
   "metadata": {},
   "source": [
    "# Coffee and Productivity\n",
    "\n",
    "Does coffee consumption in a population correlate with higher productivity as measured in GDP per hour worked?\n",
    "\n",
    "Background: On an individual level, consumption of coffee and its active ingredient, caffeine (a stimulant), is associated with higher levels of “energy” and “productivity”. But in a given population, such as a nation-state, does higher coffee consumption indicate a higher level of productivity? \n"
   ]
  },
  {
   "cell_type": "code",
   "execution_count": 1,
   "metadata": {},
   "outputs": [],
   "source": [
    "# Dependencies and Setup\n",
    "%matplotlib inline\n",
    "import matplotlib.pyplot as plt\n",
    "import pandas as pd\n",
    "import numpy as np\n",
    "\n",
    "# Hide warning messages in notebook\n",
    "import warnings\n",
    "warnings.filterwarnings('ignore')\n",
    "\n",
    "# File to Load (Remember to Change These)\n",
    "coffee_data_to_load = \"data/project_data.csv\"\n",
    "\n",
    "# Read the Data\n",
    "coffee_data = pd.read_csv(coffee_data_to_load)\n",
    "\n",
    "# coffee_data.head()\n",
    "\n",
    "# plt.rcParams[\"figure.figsize\"] = 16,9\n"
   ]
  },
  {
   "cell_type": "markdown",
   "metadata": {},
   "source": [
    "## 1-1. World Coffee Consumption by Year: Does World Consume More Coffee Over Time?\n",
    "mean coffee consumption by year (line graph) - \n",
    "x axis = year\n",
    "y axis = coffee amount\n",
    "Karen"
   ]
  },
  {
   "cell_type": "code",
   "execution_count": null,
   "metadata": {},
   "outputs": [],
   "source": []
  },
  {
   "cell_type": "markdown",
   "metadata": {},
   "source": [
    "## 1-2. Coffee Consumption Trend by Country: How Much Coffee Is Consumed by Year (in Total)?\n",
    "use project_data.csv to generate the plot. (line graph) - mean by year. Plot in line.\n",
    "Karen"
   ]
  },
  {
   "cell_type": "code",
   "execution_count": null,
   "metadata": {},
   "outputs": [],
   "source": []
  },
  {
   "cell_type": "markdown",
   "metadata": {},
   "source": [
    "## 3-1. Overall Productivity Trend: Does Productivity Grow by Year? (Growth in labour productivity indicates a higher level of output for every hour worked)\n",
    "mean productivity (line plot)\n",
    "x axis = year\n",
    "y axis = GDPhrwkd\n",
    "Jin"
   ]
  },
  {
   "cell_type": "code",
   "execution_count": null,
   "metadata": {},
   "outputs": [],
   "source": []
  },
  {
   "cell_type": "markdown",
   "metadata": {},
   "source": [
    "\n",
    "## 3-2. Productivity Trend by Country: How Does Productivity Change by Country Over Time?\n",
    "use project_data.csv to generate the plot. (line graph)  - GDP per hour worked\n",
    "Jin"
   ]
  },
  {
   "cell_type": "code",
   "execution_count": null,
   "metadata": {},
   "outputs": [],
   "source": []
  },
  {
   "cell_type": "markdown",
   "metadata": {},
   "source": [
    "## 2. Top Coffee Drinking Nations (per Capita, kg or lb): Which Country Drinks Coffee the Most per Person in 20XX?\n",
    "use project_data.csv to generate the plot. (bar graph) - top 10? \n",
    "Srini"
   ]
  },
  {
   "cell_type": "markdown",
   "metadata": {},
   "source": [
    "## 4. Top Productivity Countries in 20XX: Which Countries Show Higher Productivity Compare to Other Countries?\n",
    "use project_data.csv to generate the plot. (bubble plot)\n",
    "x axis = countries\n",
    "y axis = productivity (GDPhrworkd)\n",
    "bar graph or scatter plot\n",
    "all countries in data\n",
    "Srini"
   ]
  },
  {
   "cell_type": "code",
   "execution_count": null,
   "metadata": {},
   "outputs": [],
   "source": []
  },
  {
   "cell_type": "markdown",
   "metadata": {},
   "source": [
    "## 5-1. Correlation Between Coffee Consumption and Productivity: Does the amount of Coffee Consumption affect Productivity among countries? (Pick a certain year, ex: 2013)\n",
    "use project_data.csv to generate the plot. (bubble plot and regression)\n",
    "x axis = country\n",
    "y axis = GPDhrwkd\n",
    "bubble size coffee consumption?\n",
    "(maybe swap y axis and bubble size?)\n",
    "maybe a whisker plot - how far away from mean?\n",
    "total consumption and total GDPhrwkd for selected years (pick maybe two or three to compare?)\n",
    "Michael"
   ]
  },
  {
   "cell_type": "code",
   "execution_count": null,
   "metadata": {},
   "outputs": [],
   "source": []
  },
  {
   "cell_type": "markdown",
   "metadata": {},
   "source": [
    "## 5-2. Correlation of Changes in Coffee Consumption and Productivity: Does the Changes in the Coffee Consumption Correlated with the Changes in Productivity throughout Certain period? (dynamic analysis, Pick countries which show bigger changes in values) \n",
    "use project_data.csv to generate the plot. (scatter plot and regression)\n",
    "\n",
    "x axis = country \n",
    "y axis = gdphrwkd\n",
    "calculate the increased/decreased value of consumption\n",
    "calculate the increased/decreased value of GDPhrwkd\n",
    "ex: all years or 10 years (if plot is too busy) or in some increment (2 years, 5 years)?\n",
    "look for dramatic changes\n",
    "Michael\n"
   ]
  },
  {
   "cell_type": "code",
   "execution_count": null,
   "metadata": {},
   "outputs": [],
   "source": []
  },
  {
   "cell_type": "markdown",
   "metadata": {},
   "source": [
    "## 6-1. Correlation Between Coffee Consumption and Productivity: Is P-Value < 0.05 and Can We Reject Null-Hypothesis(H0)? (Hypothesis Test)\n",
    "P-Value graph\n",
    "this assumes a single year in 5-1\n",
    "Andrew"
   ]
  },
  {
   "cell_type": "code",
   "execution_count": null,
   "metadata": {},
   "outputs": [],
   "source": []
  },
  {
   "cell_type": "markdown",
   "metadata": {},
   "source": [
    "## 6-2. Correlation Between the Changes in the Coffee Consumption and the Changes in Productivity: Is P-Value < 0.05 and Can We Reject Null-Hypothesis(H0)? (Hypothesis Test)\n",
    "\n",
    "Different from 6-1. \n",
    "This is for the \"rate of change\" in 5-2\n",
    "Andrew"
   ]
  },
  {
   "cell_type": "code",
   "execution_count": null,
   "metadata": {},
   "outputs": [],
   "source": []
  },
  {
   "cell_type": "markdown",
   "metadata": {},
   "source": [
    "## 7. Correlation Between Coffee Consumption and Unemployment: A question needs to be defined (optional)\n",
    "use project_data.csv to generate the plot. \n"
   ]
  },
  {
   "cell_type": "code",
   "execution_count": null,
   "metadata": {},
   "outputs": [],
   "source": []
  },
  {
   "cell_type": "markdown",
   "metadata": {},
   "source": [
    "## 8. World Coffee Major Producers as % of World: Which Countries Produce Coffee? (optional)\n",
    "use exports data from www.ico.org/new_historical.asp to generate the plot.(pie chart or bubble map??)"
   ]
  },
  {
   "cell_type": "code",
   "execution_count": null,
   "metadata": {},
   "outputs": [],
   "source": []
  },
  {
   "cell_type": "markdown",
   "metadata": {},
   "source": [
    "## Conclusions\n",
    "Summary of findings - Andrew"
   ]
  },
  {
   "cell_type": "code",
   "execution_count": null,
   "metadata": {},
   "outputs": [],
   "source": []
  },
  {
   "cell_type": "code",
   "execution_count": null,
   "metadata": {},
   "outputs": [],
   "source": [
    "# DATA Source\n",
    "http://www.ico.org/new_historical.asp\n",
    "https://knoema.com/search?query=coffee&source=HomePage\n",
    "https://www.worldatlas.com/articles/top-10-coffee-consuming-nations.html\n",
    "https://fusiontables.google.com/DataSource?docid=1C-fn6nSe21acP0xJIO1T1x0wohqfMYCQyJjbqdk#rows:id=1\n",
    "https://data.oecd.org/lprdty/gdp-per-hour-worked.htm\n",
    "https://www.oecd-ilibrary.org/employment/data/oecd-productivity-statistics/gdp-per-capita-and-productivity-growth_data-00685-en"
   ]
  }
 ],
 "metadata": {
  "kernelspec": {
   "display_name": "Python 3",
   "language": "python",
   "name": "python3"
  },
  "language_info": {
   "codemirror_mode": {
    "name": "ipython",
    "version": 3
   },
   "file_extension": ".py",
   "mimetype": "text/x-python",
   "name": "python",
   "nbconvert_exporter": "python",
   "pygments_lexer": "ipython3",
   "version": "3.6.6"
  }
 },
 "nbformat": 4,
 "nbformat_minor": 2
}
