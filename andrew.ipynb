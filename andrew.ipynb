{
 "cells": [
  {
   "cell_type": "markdown",
   "metadata": {},
   "source": [
    "# Coffee and Productivity\n",
    "\n",
    "Does coffee consumption in a population correlate with higher productivity as measured in GDP per hour worked?\n",
    "\n",
    "Background: On an individual level, consumption of coffee and its active ingredient, caffeine (a stimulant), is associated with higher levels of “energy” and “productivity”. But in a given population, such as a nation-state, does higher coffee consumption indicate a higher level of productivity? \n"
   ]
  },
  {
   "cell_type": "code",
   "execution_count": 14,
   "metadata": {},
   "outputs": [
    {
     "data": {
      "text/html": [
       "<div>\n",
       "<style scoped>\n",
       "    .dataframe tbody tr th:only-of-type {\n",
       "        vertical-align: middle;\n",
       "    }\n",
       "\n",
       "    .dataframe tbody tr th {\n",
       "        vertical-align: top;\n",
       "    }\n",
       "\n",
       "    .dataframe thead th {\n",
       "        text-align: right;\n",
       "    }\n",
       "</style>\n",
       "<table border=\"1\" class=\"dataframe\">\n",
       "  <thead>\n",
       "    <tr style=\"text-align: right;\">\n",
       "      <th></th>\n",
       "      <th>Country Name</th>\n",
       "      <th>Year</th>\n",
       "      <th>Coffee Consumed</th>\n",
       "      <th>MEASURE</th>\n",
       "      <th>gdp_per_hour_worked</th>\n",
       "      <th>gdp_for_year</th>\n",
       "      <th>gdp_per_capita</th>\n",
       "      <th>population</th>\n",
       "      <th>Unemployed (%)</th>\n",
       "    </tr>\n",
       "  </thead>\n",
       "  <tbody>\n",
       "    <tr>\n",
       "      <th>0</th>\n",
       "      <td>Austria</td>\n",
       "      <td>1999</td>\n",
       "      <td>1123</td>\n",
       "      <td>USD</td>\n",
       "      <td>43.67</td>\n",
       "      <td>217185787343</td>\n",
       "      <td>28722</td>\n",
       "      <td>7561609</td>\n",
       "      <td>3.7</td>\n",
       "    </tr>\n",
       "    <tr>\n",
       "      <th>1</th>\n",
       "      <td>Austria</td>\n",
       "      <td>2000</td>\n",
       "      <td>875</td>\n",
       "      <td>USD</td>\n",
       "      <td>44.71</td>\n",
       "      <td>196799778883</td>\n",
       "      <td>25922</td>\n",
       "      <td>7592073</td>\n",
       "      <td>3.5</td>\n",
       "    </tr>\n",
       "    <tr>\n",
       "      <th>2</th>\n",
       "      <td>Austria</td>\n",
       "      <td>2001</td>\n",
       "      <td>1013</td>\n",
       "      <td>USD</td>\n",
       "      <td>45.28</td>\n",
       "      <td>197337879195</td>\n",
       "      <td>25848</td>\n",
       "      <td>7634560</td>\n",
       "      <td>3.6</td>\n",
       "    </tr>\n",
       "    <tr>\n",
       "      <th>3</th>\n",
       "      <td>Austria</td>\n",
       "      <td>2002</td>\n",
       "      <td>926</td>\n",
       "      <td>USD</td>\n",
       "      <td>46.14</td>\n",
       "      <td>213377771504</td>\n",
       "      <td>27772</td>\n",
       "      <td>7683162</td>\n",
       "      <td>4.0</td>\n",
       "    </tr>\n",
       "    <tr>\n",
       "      <th>4</th>\n",
       "      <td>Austria</td>\n",
       "      <td>2003</td>\n",
       "      <td>720</td>\n",
       "      <td>USD</td>\n",
       "      <td>46.51</td>\n",
       "      <td>261695778781</td>\n",
       "      <td>33889</td>\n",
       "      <td>7722033</td>\n",
       "      <td>4.3</td>\n",
       "    </tr>\n",
       "  </tbody>\n",
       "</table>\n",
       "</div>"
      ],
      "text/plain": [
       "  Country Name  Year  Coffee Consumed MEASURE  gdp_per_hour_worked  \\\n",
       "0      Austria  1999             1123     USD                43.67   \n",
       "1      Austria  2000              875     USD                44.71   \n",
       "2      Austria  2001             1013     USD                45.28   \n",
       "3      Austria  2002              926     USD                46.14   \n",
       "4      Austria  2003              720     USD                46.51   \n",
       "\n",
       "    gdp_for_year  gdp_per_capita  population  Unemployed (%)  \n",
       "0   217185787343           28722     7561609             3.7  \n",
       "1   196799778883           25922     7592073             3.5  \n",
       "2   197337879195           25848     7634560             3.6  \n",
       "3   213377771504           27772     7683162             4.0  \n",
       "4   261695778781           33889     7722033             4.3  "
      ]
     },
     "execution_count": 14,
     "metadata": {},
     "output_type": "execute_result"
    }
   ],
   "source": [
    "# Dependencies and Setup\n",
    "%matplotlib inline\n",
    "import matplotlib.pyplot as plt\n",
    "import pandas as pd\n",
    "import numpy as np\n",
    "from scipy.stats import sem, ttest_ind\n",
    "\n",
    "# Hide warning messages in notebook\n",
    "import warnings\n",
    "warnings.filterwarnings('ignore')\n",
    "\n",
    "# File to Load (Remember to Change These)\n",
    "coffee_data_to_load = \"data/project_data.csv\"\n",
    "\n",
    "# Read the Data\n",
    "coffee_data = pd.read_csv(coffee_data_to_load)\n",
    "\n",
    "coffee_data.head()\n",
    "\n",
    "# plt.rcParams[\"figure.figsize\"] = 16,9\n"
   ]
  },
  {
   "cell_type": "code",
   "execution_count": 15,
   "metadata": {},
   "outputs": [
    {
     "data": {
      "text/html": [
       "<div>\n",
       "<style scoped>\n",
       "    .dataframe tbody tr th:only-of-type {\n",
       "        vertical-align: middle;\n",
       "    }\n",
       "\n",
       "    .dataframe tbody tr th {\n",
       "        vertical-align: top;\n",
       "    }\n",
       "\n",
       "    .dataframe thead th {\n",
       "        text-align: right;\n",
       "    }\n",
       "</style>\n",
       "<table border=\"1\" class=\"dataframe\">\n",
       "  <thead>\n",
       "    <tr style=\"text-align: right;\">\n",
       "      <th></th>\n",
       "      <th>Year</th>\n",
       "      <th>Coffee Consumed</th>\n",
       "      <th>gdp_per_hour_worked</th>\n",
       "    </tr>\n",
       "  </thead>\n",
       "  <tbody>\n",
       "    <tr>\n",
       "      <th>0</th>\n",
       "      <td>1999</td>\n",
       "      <td>2327.862069</td>\n",
       "      <td>36.818621</td>\n",
       "    </tr>\n",
       "    <tr>\n",
       "      <th>1</th>\n",
       "      <td>2000</td>\n",
       "      <td>2224.300000</td>\n",
       "      <td>37.298667</td>\n",
       "    </tr>\n",
       "    <tr>\n",
       "      <th>2</th>\n",
       "      <td>2001</td>\n",
       "      <td>2309.700000</td>\n",
       "      <td>38.066333</td>\n",
       "    </tr>\n",
       "    <tr>\n",
       "      <th>3</th>\n",
       "      <td>2002</td>\n",
       "      <td>2322.266667</td>\n",
       "      <td>38.938667</td>\n",
       "    </tr>\n",
       "    <tr>\n",
       "      <th>4</th>\n",
       "      <td>2003</td>\n",
       "      <td>2401.366667</td>\n",
       "      <td>39.793667</td>\n",
       "    </tr>\n",
       "  </tbody>\n",
       "</table>\n",
       "</div>"
      ],
      "text/plain": [
       "   Year  Coffee Consumed  gdp_per_hour_worked\n",
       "0  1999      2327.862069            36.818621\n",
       "1  2000      2224.300000            37.298667\n",
       "2  2001      2309.700000            38.066333\n",
       "3  2002      2322.266667            38.938667\n",
       "4  2003      2401.366667            39.793667"
      ]
     },
     "execution_count": 15,
     "metadata": {},
     "output_type": "execute_result"
    }
   ],
   "source": [
    "agg_mean_coffee = coffee_data.groupby([\"Year\"]).aggregate({'Coffee Consumed':'mean',\n",
    "                                                           'gdp_per_hour_worked':'mean',\n",
    "                                                          })\n",
    "coffee_df = agg_mean_coffee.reset_index()\n",
    "coffee_df.head()"
   ]
  },
  {
   "cell_type": "code",
   "execution_count": 16,
   "metadata": {},
   "outputs": [
    {
     "data": {
      "image/png": "[encoded data removed]",
      "text/plain": [
       "<Figure size 432x288 with 1 Axes>"
      ]
     },
     "metadata": {
      "needs_background": "light"
     },
     "output_type": "display_data"
    }
   ],
   "source": [
    "# plotting the lines,\n",
    "# We show consumption in hundreds, in order to scale with the gdphrwkd,\n",
    "\n",
    "x_axis = coffee_df[\"Year\"]\n",
    "coffee_y = coffee_df[\"Coffee Consumed\"]/100\n",
    "gdp_y = coffee_df[\"gdp_per_hour_worked\"]\n",
    "\n",
    "coffee_plt, = plt.plot(x_axis, coffee_y, color='blue', label=\"Mean Coffee Consumption (in hundreds)\")\n",
    "gdp_plt, = plt.plot(x_axis, gdp_y, color='red', label=\"Mean GDP per Hr Worked\")\n",
    "plt.title(\"Coffee Consumption vs GDP per Hr Worked (Mean)\")\n",
    "plt.xlabel(\"Year\")\n",
    " \n",
    "plt.legend(loc=\"right\", framealpha=1)\n",
    "plt.show()\n"
   ]
  },
  {
   "cell_type": "markdown",
   "metadata": {},
   "source": [
    "## 6-1. Correlation Between Coffee Consumption and Productivity: Is P-Value < 0.05 and Can We Reject Null-Hypothesis(H0)? (Hypothesis Test)\n",
    "    P-Value grap\n",
    "Andrew"
   ]
  },
  {
   "cell_type": "code",
   "execution_count": 39,
   "metadata": {},
   "outputs": [
    {
     "data": {
      "text/html": [
       "<div>\n",
       "<style scoped>\n",
       "    .dataframe tbody tr th:only-of-type {\n",
       "        vertical-align: middle;\n",
       "    }\n",
       "\n",
       "    .dataframe tbody tr th {\n",
       "        vertical-align: top;\n",
       "    }\n",
       "\n",
       "    .dataframe thead th {\n",
       "        text-align: right;\n",
       "    }\n",
       "</style>\n",
       "<table border=\"1\" class=\"dataframe\">\n",
       "  <thead>\n",
       "    <tr style=\"text-align: right;\">\n",
       "      <th></th>\n",
       "      <th>Country Name</th>\n",
       "      <th>Year</th>\n",
       "      <th>Coffee Consumed</th>\n",
       "      <th>gdp_per_hour_worked</th>\n",
       "    </tr>\n",
       "  </thead>\n",
       "  <tbody>\n",
       "    <tr>\n",
       "      <th>0</th>\n",
       "      <td>Austria</td>\n",
       "      <td>1999</td>\n",
       "      <td>1123</td>\n",
       "      <td>43.67</td>\n",
       "    </tr>\n",
       "    <tr>\n",
       "      <th>1</th>\n",
       "      <td>Austria</td>\n",
       "      <td>2000</td>\n",
       "      <td>875</td>\n",
       "      <td>44.71</td>\n",
       "    </tr>\n",
       "    <tr>\n",
       "      <th>2</th>\n",
       "      <td>Austria</td>\n",
       "      <td>2001</td>\n",
       "      <td>1013</td>\n",
       "      <td>45.28</td>\n",
       "    </tr>\n",
       "    <tr>\n",
       "      <th>3</th>\n",
       "      <td>Austria</td>\n",
       "      <td>2002</td>\n",
       "      <td>926</td>\n",
       "      <td>46.14</td>\n",
       "    </tr>\n",
       "    <tr>\n",
       "      <th>4</th>\n",
       "      <td>Austria</td>\n",
       "      <td>2003</td>\n",
       "      <td>720</td>\n",
       "      <td>46.51</td>\n",
       "    </tr>\n",
       "  </tbody>\n",
       "</table>\n",
       "</div>"
      ],
      "text/plain": [
       "  Country Name  Year  Coffee Consumed  gdp_per_hour_worked\n",
       "0      Austria  1999             1123                43.67\n",
       "1      Austria  2000              875                44.71\n",
       "2      Austria  2001             1013                45.28\n",
       "3      Austria  2002              926                46.14\n",
       "4      Austria  2003              720                46.51"
      ]
     },
     "execution_count": 39,
     "metadata": {},
     "output_type": "execute_result"
    }
   ],
   "source": [
    "df = coffee_data[[\"Country Name\",\"Year\",\"Coffee Consumed\",\"gdp_per_hour_worked\"]]\n",
    "df.head()"
   ]
  },
  {
   "cell_type": "code",
   "execution_count": 45,
   "metadata": {},
   "outputs": [],
   "source": [
    "x_axis = df['Coffee Consumed']\n",
    "y_axis = df['gdp_per_hour_worked']"
   ]
  },
  {
   "cell_type": "code",
   "execution_count": 46,
   "metadata": {},
   "outputs": [
    {
     "data": {
      "text/plain": [
       "0.22849924393502852"
      ]
     },
     "execution_count": 46,
     "metadata": {},
     "output_type": "execute_result"
    }
   ],
   "source": [
    "# Correlation\n",
    "x_axis.corr(y_axis)"
   ]
  },
  {
   "cell_type": "code",
   "execution_count": 52,
   "metadata": {},
   "outputs": [
    {
     "name": "stdout",
     "output_type": "stream",
     "text": [
      "There is a strong correlation here\n",
      "P-value = 1.4250772313999466e-32\n"
     ]
    }
   ],
   "source": [
    "# T-Test\n",
    "from scipy.stats import ttest_ind\n",
    "(t, p) = ttest_ind(x_axis, y_axis)\n",
    "if p < 0.005:\n",
    "    print(\"There is a strong correlation here\")\n",
    "    print(\"P-value = \" + str(p))\n",
    "    "
   ]
  },
  {
   "cell_type": "code",
   "execution_count": 54,
   "metadata": {},
   "outputs": [],
   "source": [
    "from scipy.stats import linregress\n",
    "\n",
    "(slope, intercept, _, _, _) = linregress(x_axis, y_axis)\n",
    "fit = slope * x_axis + intercept"
   ]
  },
  {
   "cell_type": "code",
   "execution_count": 69,
   "metadata": {},
   "outputs": [
    {
     "data": {
      "text/plain": [
       "<Figure size 4000x1600 with 0 Axes>"
      ]
     },
     "metadata": {},
     "output_type": "display_data"
    },
    {
     "data": {
      "image/png": "[encoded data removed]",
      "text/plain": [
       "<Figure size 720x720 with 1 Axes>"
      ]
     },
     "metadata": {
      "needs_background": "light"
     },
     "output_type": "display_data"
    }
   ],
   "source": [
    "# Plot data\n",
    "plt.rcParams['figure.figsize'] = [10, 10]\n",
    "fig = plt.figure(figsize=(50, 20), dpi= 80, facecolor='w', edgecolor='k')\n",
    "fig, ax = plt.subplots()\n",
    "\n",
    "fig.suptitle(\"Coffee Consumption and GDP per Hour Worked\", fontsize=16, fontweight=\"bold\")\n",
    "\n",
    "#ax.set_xlim(0, 10)\n",
    "#ax.set_ylim(0, 10)\n",
    "\n",
    "\n",
    "ax.set_xlabel(\"Coffee Consumption (in thousands of 60k bags)\")\n",
    "ax.set_ylabel(\"GDP per Hour Worked\")\n",
    "\n",
    "ax.plot(x_axis, y_axis, linewidth=0, marker='o')\n",
    "ax.plot(x_axis, fit, 'b--')\n",
    "\n",
    "\n",
    "plt.show()"
   ]
  },
  {
   "cell_type": "markdown",
   "metadata": {},
   "source": [
    "## 6-2. Correlation Between the Changes in the Coffee Consumption and the Changes in Productivity: Is P-Value < 0.05 and Can We Reject Null-Hypothesis(H0)? (Hypothesis Test)\n",
    "\n",
    "Different from 6-1. \n",
    "This is for the \"rate of change\" in 5-2\n",
    "Andrew"
   ]
  },
  {
   "cell_type": "code",
   "execution_count": null,
   "metadata": {},
   "outputs": [],
   "source": []
  },
  {
   "cell_type": "code",
   "execution_count": null,
   "metadata": {},
   "outputs": [],
   "source": []
  },
  {
   "cell_type": "code",
   "execution_count": null,
   "metadata": {},
   "outputs": [],
   "source": [
    "# DATA Source\n",
    "http://www.ico.org/new_historical.asp\n",
    "https://knoema.com/search?query=coffee&source=HomePage\n",
    "https://www.worldatlas.com/articles/top-10-coffee-consuming-nations.html\n",
    "https://fusiontables.google.com/DataSource?docid=1C-fn6nSe21acP0xJIO1T1x0wohqfMYCQyJjbqdk#rows:id=1\n",
    "https://data.oecd.org/lprdty/gdp-per-hour-worked.htm\n",
    "https://www.oecd-ilibrary.org/employment/data/oecd-productivity-statistics/gdp-per-capita-and-productivity-growth_data-00685-en"
   ]
  }
 ],
 "metadata": {
  "kernelspec": {
   "display_name": "Python 3",
   "language": "python",
   "name": "python3"
  },
  "language_info": {
   "codemirror_mode": {
    "name": "ipython",
    "version": 3
   },
   "file_extension": ".py",
   "mimetype": "text/x-python",
   "name": "python",
   "nbconvert_exporter": "python",
   "pygments_lexer": "ipython3",
   "version": "3.6.6"
  }
 },
 "nbformat": 4,
 "nbformat_minor": 2
}
