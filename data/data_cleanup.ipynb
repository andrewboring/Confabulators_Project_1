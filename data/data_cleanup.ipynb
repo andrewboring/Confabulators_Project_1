{
 "cells": [
  {
   "cell_type": "markdown",
   "metadata": {},
   "source": [
    "This is a data cleanup/merge notebook. "
   ]
  },
  {
   "cell_type": "code",
   "execution_count": 1,
   "metadata": {},
   "outputs": [],
   "source": [
    "#Import libraries\n",
    "import pandas as pd\n",
    "import numpy as np"
   ]
  },
  {
   "cell_type": "code",
   "execution_count": 15,
   "metadata": {},
   "outputs": [
    {
     "data": {
      "text/plain": [
       "<bound method NDFrame.head of                                 Austria   1,340   1,302   1,212   1,335  \\\n",
       "0                               Belgium     NaN     NaN     NaN     NaN   \n",
       "1                    Belgium/Luxembourg   1,124     708     696     789   \n",
       "2                              Bulgaria     102      17     175     327   \n",
       "3                               Croatia     NaN     NaN     135     132   \n",
       "4                                Cyprus      31      45      39      78   \n",
       "5                        Czech Republic     659     525     472     448   \n",
       "6                               Denmark     865     909     959     891   \n",
       "7                               Estonia     NaN     NaN      13      44   \n",
       "8                               Finland   1,070     966   1,030   1,129   \n",
       "9                                France   5,205   5,557   5,614   5,507   \n",
       "10                              Germany   7,279  12,377   9,570  11,325   \n",
       "11                               Greece     631     387     320     148   \n",
       "12                              Hungary     574     380     348     557   \n",
       "13                              Ireland     120     113      91     107   \n",
       "14                                Italy   4,832   4,254   4,132   4,888   \n",
       "15                               Latvia     NaN     NaN      19      41   \n",
       "16                            Lithuania     NaN     NaN       2       9   \n",
       "17                           Luxembourg     NaN     NaN     NaN     NaN   \n",
       "18                                Malta      20      13      16      22   \n",
       "19                          Netherlands   2,383   2,488   3,261   2,719   \n",
       "20                               Poland     335     243   1,650   1,545   \n",
       "21                             Portugal     467     448     573     529   \n",
       "22                              Romania     442     335     601     420   \n",
       "23                             Slovakia     NaN     NaN     NaN     276   \n",
       "24                             Slovenia     NaN     NaN     115     148   \n",
       "25                                Spain   2,714   2,651   3,045   2,728   \n",
       "26                               Sweden   1,689   1,604   1,634   1,618   \n",
       "27                       United Kingdom   2,348   2,342   2,516   2,534   \n",
       "28                                  NaN     NaN     NaN     NaN     NaN   \n",
       "29                                Japan   5,060   5,809   5,132   5,740   \n",
       "30                               Norway     727     758     736     690   \n",
       "31                   Russian Federation     NaN     NaN   1,377   1,795   \n",
       "32                          Switzerland     907     949     995     869   \n",
       "33                              Tunisia     101      90     111     101   \n",
       "34                                  USA  18,298  18,661  18,290  19,217   \n",
       "35                                  NaN     NaN     NaN     NaN     NaN   \n",
       "36                                Total  59,322  63,930  64,882  68,704   \n",
       "37  © International Coffee Organization     NaN     NaN     NaN     NaN   \n",
       "\n",
       "     1,086   1,012   1,076   1,087   1,105     ...         908     886  \\\n",
       "0      NaN     NaN     NaN     NaN     NaN     ...         650     934   \n",
       "1      958   1,073   1,039     886   1,309     ...         NaN     NaN   \n",
       "2      353     393     246     275     324     ...         445     409   \n",
       "3      164     288     304     361     320     ...         377     366   \n",
       "4       45      43      52      46      46     ...          77      75   \n",
       "5      509     511     475     485     523     ...         621     525   \n",
       "6      908     758     895     808     854     ...         688     676   \n",
       "7       63      83      84      99      90     ...         154     123   \n",
       "8    1,050     735     901     939   1,001     ...       1,115   1,058   \n",
       "9    5,111   5,313   5,512   5,487   5,351     ...       5,152   5,677   \n",
       "10   8,214  11,231  10,594   9,670   9,976     ...       9,535   8,897   \n",
       "11     356     383     715     739     668     ...         978     974   \n",
       "12     724     447     571     602     652     ...         494     445   \n",
       "13     127     107      87      97      92     ...         115     134   \n",
       "14   4,774   4,644   4,776   4,913   4,936     ...       5,892   5,806   \n",
       "15       6      14      50     120     134     ...         115      88   \n",
       "16      37      68      66     108     135     ...         204     210   \n",
       "17     NaN     NaN     NaN     NaN     NaN     ...         239     222   \n",
       "18      12      21       9       9       7     ...          23      14   \n",
       "19   2,122   2,293   2,509   2,367   1,961     ...       1,324     898   \n",
       "20   1,742   1,637   1,755   1,966   1,965     ...       1,681   2,001   \n",
       "21     673     632     615     603     696     ...         747     731   \n",
       "22     347     550     696     630     584     ...         807     775   \n",
       "23     234     223     244     234     241     ...         341     213   \n",
       "24     152     140     164     161     162     ...         194     198   \n",
       "25   2,774   2,732   2,901   2,977   2,996     ...       3,485   3,352   \n",
       "26   1,669   1,204   1,298   1,241   1,248     ...       1,272   1,133   \n",
       "27   2,640   2,200   2,406   2,441   2,588     ...       3,067   3,220   \n",
       "28     NaN     NaN     NaN     NaN     NaN     ...         NaN     NaN   \n",
       "29   5,973   6,116   5,838   5,968   6,052     ...       7,065   7,130   \n",
       "30     800     657     713     675     702     ...         715     715   \n",
       "31   1,712   1,650   1,063   1,857   1,647     ...       3,633   3,113   \n",
       "32     944     935     922     712     811     ...       1,149     966   \n",
       "33     137     137     144     165     147     ...         317     289   \n",
       "34  17,326  17,363  18,059  17,795  18,604     ...      21,652  21,436   \n",
       "35     NaN     NaN     NaN     NaN     NaN     ...         NaN     NaN   \n",
       "36  63,742  65,593  66,780  66,525  67,927     ...      75,231  73,690   \n",
       "37     NaN     NaN     NaN     NaN     NaN     ...         NaN     NaN   \n",
       "\n",
       "       903   1,117   1,269   1,249 Unnamed: 25 Unnamed: 26 Unnamed: 27  \\\n",
       "0      871     934     915   1,245         NaN         NaN         NaN   \n",
       "1      NaN     NaN     NaN     NaN         NaN         NaN         NaN   \n",
       "2      395     360     376     419         NaN         NaN         NaN   \n",
       "3      370     367     360     387         NaN         NaN         NaN   \n",
       "4       74      81      85      89         NaN         NaN         NaN   \n",
       "5      470     572     685     637         NaN         NaN         NaN   \n",
       "6      806     762     800     822         NaN         NaN         NaN   \n",
       "7      105      67     104     120         NaN         NaN         NaN   \n",
       "8    1,080   1,093   1,082   1,095         NaN         NaN         NaN   \n",
       "9    5,713   5,962   5,790   5,707         NaN         NaN         NaN   \n",
       "10   9,292   9,460   8,830   9,378         NaN         NaN         NaN   \n",
       "11     994   1,023   1,076   1,101         NaN         NaN         NaN   \n",
       "12     376     180     252     177         NaN         NaN         NaN   \n",
       "13     160     179     214     196         NaN         NaN         NaN   \n",
       "14   5,781   5,689   5,710   5,634         NaN         NaN         NaN   \n",
       "15      99     101     101      95         NaN         NaN         NaN   \n",
       "16     223     180     193     197         NaN         NaN         NaN   \n",
       "17     232     215     212     241         NaN         NaN         NaN   \n",
       "18      12      16      21      22         NaN         NaN         NaN   \n",
       "19   1,347     909   1,382   1,625         NaN         NaN         NaN   \n",
       "20   2,156   2,034   1,936   1,669         NaN         NaN         NaN   \n",
       "21     812     859     828     840         NaN         NaN         NaN   \n",
       "22     796     802     849     891         NaN         NaN         NaN   \n",
       "23     337     388     201     328         NaN         NaN         NaN   \n",
       "24     205     208     185     184         NaN         NaN         NaN   \n",
       "25   3,232   3,149   3,435   3,234         NaN         NaN         NaN   \n",
       "26   1,221   1,125   1,159   1,175         NaN         NaN         NaN   \n",
       "27   3,134   2,925   2,926   2,828         NaN         NaN         NaN   \n",
       "28     NaN     NaN     NaN     NaN         NaN         NaN         NaN   \n",
       "29   7,192   7,015   7,131   7,435       7,494       7,695       7,872   \n",
       "30     746     785     723     763         729         788         782   \n",
       "31   3,700   3,754   3,696   3,648       4,021       3,846       4,439   \n",
       "32   1,012   1,035   1,047   1,123       1,028       1,096       1,066   \n",
       "33     301     415     421     429         460         458         465   \n",
       "34  21,783  22,044  22,232  23,417      23,767      24,438      25,243   \n",
       "35     NaN     NaN     NaN     NaN         NaN         NaN         NaN   \n",
       "36  75,931  75,804  76,229  78,400      79,938      79,891      83,489   \n",
       "37     NaN     NaN     NaN     NaN         NaN         NaN         NaN   \n",
       "\n",
       "   Unnamed: 28  \n",
       "0          NaN  \n",
       "1          NaN  \n",
       "2          NaN  \n",
       "3          NaN  \n",
       "4          NaN  \n",
       "5          NaN  \n",
       "6          NaN  \n",
       "7          NaN  \n",
       "8          NaN  \n",
       "9          NaN  \n",
       "10         NaN  \n",
       "11         NaN  \n",
       "12         NaN  \n",
       "13         NaN  \n",
       "14         NaN  \n",
       "15         NaN  \n",
       "16         NaN  \n",
       "17         NaN  \n",
       "18         NaN  \n",
       "19         NaN  \n",
       "20         NaN  \n",
       "21         NaN  \n",
       "22         NaN  \n",
       "23         NaN  \n",
       "24         NaN  \n",
       "25         NaN  \n",
       "26         NaN  \n",
       "27         NaN  \n",
       "28         NaN  \n",
       "29       7,742  \n",
       "30         781  \n",
       "31       4,512  \n",
       "32         894  \n",
       "33         546  \n",
       "34      26,186  \n",
       "35         NaN  \n",
       "36      82,749  \n",
       "37         NaN  \n",
       "\n",
       "[38 rows x 29 columns]>"
      ]
     },
     "execution_count": 15,
     "metadata": {},
     "output_type": "execute_result"
    }
   ],
   "source": [
    "#Load Data Frames\n",
    "Unemployment_data = pd.read_csv(\"unemployment.csv\")\n",
    "financial_data = pd.read_csv(\"Financial Data.csv\")\n",
    "consumption_data = pd.read_csv(\"coffee_consumption.csv\", header=3, encoding=\"latin\")\n",
    "gdp_perhw_data = pd.read_csv(\"gdp_hrwkd.csv\")\n",
    "srini_data = pd.read_csv(\"Coffee_Consuption_clean.csv\")\n",
    "consumption_data.head"
   ]
  },
  {
   "cell_type": "code",
   "execution_count": 16,
   "metadata": {},
   "outputs": [
    {
     "data": {
      "text/html": [
       "<div>\n",
       "<style scoped>\n",
       "    .dataframe tbody tr th:only-of-type {\n",
       "        vertical-align: middle;\n",
       "    }\n",
       "\n",
       "    .dataframe tbody tr th {\n",
       "        vertical-align: top;\n",
       "    }\n",
       "\n",
       "    .dataframe thead th {\n",
       "        text-align: right;\n",
       "    }\n",
       "</style>\n",
       "<table border=\"1\" class=\"dataframe\">\n",
       "  <thead>\n",
       "    <tr style=\"text-align: right;\">\n",
       "      <th></th>\n",
       "      <th>Austria</th>\n",
       "      <th>1,123</th>\n",
       "      <th>875</th>\n",
       "      <th>1,013</th>\n",
       "      <th>926</th>\n",
       "      <th>720</th>\n",
       "      <th>996</th>\n",
       "      <th>772</th>\n",
       "      <th>612</th>\n",
       "      <th>847</th>\n",
       "      <th>908</th>\n",
       "      <th>886</th>\n",
       "      <th>903</th>\n",
       "      <th>1,117</th>\n",
       "      <th>1,269</th>\n",
       "      <th>1,249</th>\n",
       "    </tr>\n",
       "  </thead>\n",
       "  <tbody>\n",
       "    <tr>\n",
       "      <th>0</th>\n",
       "      <td>Belgium</td>\n",
       "      <td>834</td>\n",
       "      <td>1,133</td>\n",
       "      <td>884</td>\n",
       "      <td>1,484</td>\n",
       "      <td>1,579</td>\n",
       "      <td>1,396</td>\n",
       "      <td>1,158</td>\n",
       "      <td>1,537</td>\n",
       "      <td>1,103</td>\n",
       "      <td>650</td>\n",
       "      <td>934</td>\n",
       "      <td>871</td>\n",
       "      <td>934</td>\n",
       "      <td>915</td>\n",
       "      <td>1,245</td>\n",
       "    </tr>\n",
       "    <tr>\n",
       "      <th>2</th>\n",
       "      <td>Bulgaria</td>\n",
       "      <td>363</td>\n",
       "      <td>275</td>\n",
       "      <td>350</td>\n",
       "      <td>341</td>\n",
       "      <td>397</td>\n",
       "      <td>364</td>\n",
       "      <td>430</td>\n",
       "      <td>420</td>\n",
       "      <td>364</td>\n",
       "      <td>445</td>\n",
       "      <td>409</td>\n",
       "      <td>395</td>\n",
       "      <td>360</td>\n",
       "      <td>376</td>\n",
       "      <td>419</td>\n",
       "    </tr>\n",
       "    <tr>\n",
       "      <th>3</th>\n",
       "      <td>Croatia</td>\n",
       "      <td>337</td>\n",
       "      <td>327</td>\n",
       "      <td>337</td>\n",
       "      <td>355</td>\n",
       "      <td>375</td>\n",
       "      <td>370</td>\n",
       "      <td>374</td>\n",
       "      <td>386</td>\n",
       "      <td>386</td>\n",
       "      <td>377</td>\n",
       "      <td>366</td>\n",
       "      <td>370</td>\n",
       "      <td>367</td>\n",
       "      <td>360</td>\n",
       "      <td>387</td>\n",
       "    </tr>\n",
       "    <tr>\n",
       "      <th>4</th>\n",
       "      <td>Cyprus</td>\n",
       "      <td>54</td>\n",
       "      <td>67</td>\n",
       "      <td>53</td>\n",
       "      <td>51</td>\n",
       "      <td>53</td>\n",
       "      <td>60</td>\n",
       "      <td>70</td>\n",
       "      <td>55</td>\n",
       "      <td>69</td>\n",
       "      <td>77</td>\n",
       "      <td>75</td>\n",
       "      <td>74</td>\n",
       "      <td>81</td>\n",
       "      <td>85</td>\n",
       "      <td>89</td>\n",
       "    </tr>\n",
       "    <tr>\n",
       "      <th>5</th>\n",
       "      <td>Czech Republic</td>\n",
       "      <td>558</td>\n",
       "      <td>560</td>\n",
       "      <td>633</td>\n",
       "      <td>642</td>\n",
       "      <td>623</td>\n",
       "      <td>605</td>\n",
       "      <td>656</td>\n",
       "      <td>631</td>\n",
       "      <td>679</td>\n",
       "      <td>621</td>\n",
       "      <td>525</td>\n",
       "      <td>470</td>\n",
       "      <td>572</td>\n",
       "      <td>685</td>\n",
       "      <td>637</td>\n",
       "    </tr>\n",
       "  </tbody>\n",
       "</table>\n",
       "</div>"
      ],
      "text/plain": [
       "             Austria 1,123    875 1,013    926    720    996    772    612  \\\n",
       "0            Belgium   834  1,133   884  1,484  1,579  1,396  1,158  1,537   \n",
       "2           Bulgaria   363    275   350    341    397    364    430    420   \n",
       "3            Croatia   337    327   337    355    375    370    374    386   \n",
       "4             Cyprus    54     67    53     51     53     60     70     55   \n",
       "5     Czech Republic   558    560   633    642    623    605    656    631   \n",
       "\n",
       "     847  908  886  903 1,117 1,269  1,249  \n",
       "0  1,103  650  934  871   934   915  1,245  \n",
       "2    364  445  409  395   360   376    419  \n",
       "3    386  377  366  370   367   360    387  \n",
       "4     69   77   75   74    81    85     89  \n",
       "5    679  621  525  470   572   685    637  "
      ]
     },
     "execution_count": 16,
     "metadata": {},
     "output_type": "execute_result"
    }
   ],
   "source": [
    "#Remove N/A rows from Consumption Data Frame\n",
    "\n",
    "consumption_clean_rows = consumption_data.dropna(thresh=11)\n",
    "\n",
    "#Filter for data for 1999-2013\n",
    "consumption_clean = consumption_clean_rows.dropna(axis=1)\n",
    "consumption_clean.head()\n"
   ]
  },
  {
   "cell_type": "code",
   "execution_count": 17,
   "metadata": {
    "scrolled": true
   },
   "outputs": [
    {
     "name": "stderr",
     "output_type": "stream",
     "text": [
      "/anaconda2/envs/PythonData/lib/python3.6/site-packages/pandas/core/frame.py:3781: SettingWithCopyWarning: \n",
      "A value is trying to be set on a copy of a slice from a DataFrame\n",
      "\n",
      "See the caveats in the documentation: http://pandas.pydata.org/pandas-docs/stable/indexing.html#indexing-view-versus-copy\n",
      "  return super(DataFrame, self).rename(**kwargs)\n"
     ]
    },
    {
     "data": {
      "text/plain": [
       "Index(['   Austria', '1,123', '875', '1,013', '926', '720', '996', '772',\n",
       "       '612', '847', '908', '886', '903', '1,117', '1,269', '1,249'],\n",
       "      dtype='object')"
      ]
     },
     "execution_count": 17,
     "metadata": {},
     "output_type": "execute_result"
    }
   ],
   "source": [
    "#Rename Calendar years as Country Name\n",
    "consumption_clean.rename(index=str, columns={\"Calendar years\": \"Country Name\"}, inplace=True)\n",
    "consumption_clean.columns\n"
   ]
  },
  {
   "cell_type": "code",
   "execution_count": 7,
   "metadata": {
    "scrolled": false
   },
   "outputs": [
    {
     "ename": "KeyError",
     "evalue": "'Country Name'",
     "output_type": "error",
     "traceback": [
      "\u001b[0;31m---------------------------------------------------------------------------\u001b[0m",
      "\u001b[0;31mKeyError\u001b[0m                                  Traceback (most recent call last)",
      "\u001b[0;32m/anaconda2/envs/PythonData/lib/python3.6/site-packages/pandas/core/indexes/base.py\u001b[0m in \u001b[0;36mget_loc\u001b[0;34m(self, key, method, tolerance)\u001b[0m\n\u001b[1;32m   3077\u001b[0m             \u001b[0;32mtry\u001b[0m\u001b[0;34m:\u001b[0m\u001b[0;34m\u001b[0m\u001b[0m\n\u001b[0;32m-> 3078\u001b[0;31m                 \u001b[0;32mreturn\u001b[0m \u001b[0mself\u001b[0m\u001b[0;34m.\u001b[0m\u001b[0m_engine\u001b[0m\u001b[0;34m.\u001b[0m\u001b[0mget_loc\u001b[0m\u001b[0;34m(\u001b[0m\u001b[0mkey\u001b[0m\u001b[0;34m)\u001b[0m\u001b[0;34m\u001b[0m\u001b[0m\n\u001b[0m\u001b[1;32m   3079\u001b[0m             \u001b[0;32mexcept\u001b[0m \u001b[0mKeyError\u001b[0m\u001b[0;34m:\u001b[0m\u001b[0;34m\u001b[0m\u001b[0m\n",
      "\u001b[0;32mpandas/_libs/index.pyx\u001b[0m in \u001b[0;36mpandas._libs.index.IndexEngine.get_loc\u001b[0;34m()\u001b[0m\n",
      "\u001b[0;32mpandas/_libs/index.pyx\u001b[0m in \u001b[0;36mpandas._libs.index.IndexEngine.get_loc\u001b[0;34m()\u001b[0m\n",
      "\u001b[0;32mpandas/_libs/hashtable_class_helper.pxi\u001b[0m in \u001b[0;36mpandas._libs.hashtable.PyObjectHashTable.get_item\u001b[0;34m()\u001b[0m\n",
      "\u001b[0;32mpandas/_libs/hashtable_class_helper.pxi\u001b[0m in \u001b[0;36mpandas._libs.hashtable.PyObjectHashTable.get_item\u001b[0;34m()\u001b[0m\n",
      "\u001b[0;31mKeyError\u001b[0m: 'Country Name'",
      "\nDuring handling of the above exception, another exception occurred:\n",
      "\u001b[0;31mKeyError\u001b[0m                                  Traceback (most recent call last)",
      "\u001b[0;32m<ipython-input-7-ea804339e439>\u001b[0m in \u001b[0;36m<module>\u001b[0;34m()\u001b[0m\n\u001b[1;32m      1\u001b[0m \u001b[0;31m#Move Years to a single column\u001b[0m\u001b[0;34m\u001b[0m\u001b[0;34m\u001b[0m\u001b[0m\n\u001b[0;32m----> 2\u001b[0;31m \u001b[0mconsumption_clean2\u001b[0m \u001b[0;34m=\u001b[0m \u001b[0mpd\u001b[0m\u001b[0;34m.\u001b[0m\u001b[0mmelt\u001b[0m\u001b[0;34m(\u001b[0m\u001b[0mconsumption_clean\u001b[0m\u001b[0;34m,\u001b[0m \u001b[0mid_vars\u001b[0m\u001b[0;34m=\u001b[0m\u001b[0;34m[\u001b[0m\u001b[0;34m'Country Name'\u001b[0m\u001b[0;34m]\u001b[0m\u001b[0;34m,\u001b[0m \u001b[0mvar_name\u001b[0m\u001b[0;34m=\u001b[0m\u001b[0;34m\"Year\"\u001b[0m\u001b[0;34m,\u001b[0m \u001b[0mvalue_name\u001b[0m\u001b[0;34m=\u001b[0m\u001b[0;34m\"Coffee Consumed\"\u001b[0m\u001b[0;34m)\u001b[0m\u001b[0;34m\u001b[0m\u001b[0m\n\u001b[0m\u001b[1;32m      3\u001b[0m \u001b[0mconsumption_clean2\u001b[0m\u001b[0;34m\u001b[0m\u001b[0m\n",
      "\u001b[0;32m/anaconda2/envs/PythonData/lib/python3.6/site-packages/pandas/core/reshape/melt.py\u001b[0m in \u001b[0;36mmelt\u001b[0;34m(frame, id_vars, value_vars, var_name, value_name, col_level)\u001b[0m\n\u001b[1;32m     73\u001b[0m     \u001b[0mmdata\u001b[0m \u001b[0;34m=\u001b[0m \u001b[0;34m{\u001b[0m\u001b[0;34m}\u001b[0m\u001b[0;34m\u001b[0m\u001b[0m\n\u001b[1;32m     74\u001b[0m     \u001b[0;32mfor\u001b[0m \u001b[0mcol\u001b[0m \u001b[0;32min\u001b[0m \u001b[0mid_vars\u001b[0m\u001b[0;34m:\u001b[0m\u001b[0;34m\u001b[0m\u001b[0m\n\u001b[0;32m---> 75\u001b[0;31m         \u001b[0mid_data\u001b[0m \u001b[0;34m=\u001b[0m \u001b[0mframe\u001b[0m\u001b[0;34m.\u001b[0m\u001b[0mpop\u001b[0m\u001b[0;34m(\u001b[0m\u001b[0mcol\u001b[0m\u001b[0;34m)\u001b[0m\u001b[0;34m\u001b[0m\u001b[0m\n\u001b[0m\u001b[1;32m     76\u001b[0m         \u001b[0;32mif\u001b[0m \u001b[0mis_extension_type\u001b[0m\u001b[0;34m(\u001b[0m\u001b[0mid_data\u001b[0m\u001b[0;34m)\u001b[0m\u001b[0;34m:\u001b[0m\u001b[0;34m\u001b[0m\u001b[0m\n\u001b[1;32m     77\u001b[0m             \u001b[0mid_data\u001b[0m \u001b[0;34m=\u001b[0m \u001b[0mconcat\u001b[0m\u001b[0;34m(\u001b[0m\u001b[0;34m[\u001b[0m\u001b[0mid_data\u001b[0m\u001b[0;34m]\u001b[0m \u001b[0;34m*\u001b[0m \u001b[0mK\u001b[0m\u001b[0;34m,\u001b[0m \u001b[0mignore_index\u001b[0m\u001b[0;34m=\u001b[0m\u001b[0;32mTrue\u001b[0m\u001b[0;34m)\u001b[0m\u001b[0;34m\u001b[0m\u001b[0m\n",
      "\u001b[0;32m/anaconda2/envs/PythonData/lib/python3.6/site-packages/pandas/core/generic.py\u001b[0m in \u001b[0;36mpop\u001b[0;34m(self, item)\u001b[0m\n\u001b[1;32m    758\u001b[0m         \u001b[0;36m3\u001b[0m  \u001b[0mmonkey\u001b[0m        \u001b[0mNaN\u001b[0m\u001b[0;34m\u001b[0m\u001b[0m\n\u001b[1;32m    759\u001b[0m         \"\"\"\n\u001b[0;32m--> 760\u001b[0;31m         \u001b[0mresult\u001b[0m \u001b[0;34m=\u001b[0m \u001b[0mself\u001b[0m\u001b[0;34m[\u001b[0m\u001b[0mitem\u001b[0m\u001b[0;34m]\u001b[0m\u001b[0;34m\u001b[0m\u001b[0m\n\u001b[0m\u001b[1;32m    761\u001b[0m         \u001b[0;32mdel\u001b[0m \u001b[0mself\u001b[0m\u001b[0;34m[\u001b[0m\u001b[0mitem\u001b[0m\u001b[0;34m]\u001b[0m\u001b[0;34m\u001b[0m\u001b[0m\n\u001b[1;32m    762\u001b[0m         \u001b[0;32mtry\u001b[0m\u001b[0;34m:\u001b[0m\u001b[0;34m\u001b[0m\u001b[0m\n",
      "\u001b[0;32m/anaconda2/envs/PythonData/lib/python3.6/site-packages/pandas/core/frame.py\u001b[0m in \u001b[0;36m__getitem__\u001b[0;34m(self, key)\u001b[0m\n\u001b[1;32m   2686\u001b[0m             \u001b[0;32mreturn\u001b[0m \u001b[0mself\u001b[0m\u001b[0;34m.\u001b[0m\u001b[0m_getitem_multilevel\u001b[0m\u001b[0;34m(\u001b[0m\u001b[0mkey\u001b[0m\u001b[0;34m)\u001b[0m\u001b[0;34m\u001b[0m\u001b[0m\n\u001b[1;32m   2687\u001b[0m         \u001b[0;32melse\u001b[0m\u001b[0;34m:\u001b[0m\u001b[0;34m\u001b[0m\u001b[0m\n\u001b[0;32m-> 2688\u001b[0;31m             \u001b[0;32mreturn\u001b[0m \u001b[0mself\u001b[0m\u001b[0;34m.\u001b[0m\u001b[0m_getitem_column\u001b[0m\u001b[0;34m(\u001b[0m\u001b[0mkey\u001b[0m\u001b[0;34m)\u001b[0m\u001b[0;34m\u001b[0m\u001b[0m\n\u001b[0m\u001b[1;32m   2689\u001b[0m \u001b[0;34m\u001b[0m\u001b[0m\n\u001b[1;32m   2690\u001b[0m     \u001b[0;32mdef\u001b[0m \u001b[0m_getitem_column\u001b[0m\u001b[0;34m(\u001b[0m\u001b[0mself\u001b[0m\u001b[0;34m,\u001b[0m \u001b[0mkey\u001b[0m\u001b[0;34m)\u001b[0m\u001b[0;34m:\u001b[0m\u001b[0;34m\u001b[0m\u001b[0m\n",
      "\u001b[0;32m/anaconda2/envs/PythonData/lib/python3.6/site-packages/pandas/core/frame.py\u001b[0m in \u001b[0;36m_getitem_column\u001b[0;34m(self, key)\u001b[0m\n\u001b[1;32m   2693\u001b[0m         \u001b[0;31m# get column\u001b[0m\u001b[0;34m\u001b[0m\u001b[0;34m\u001b[0m\u001b[0m\n\u001b[1;32m   2694\u001b[0m         \u001b[0;32mif\u001b[0m \u001b[0mself\u001b[0m\u001b[0;34m.\u001b[0m\u001b[0mcolumns\u001b[0m\u001b[0;34m.\u001b[0m\u001b[0mis_unique\u001b[0m\u001b[0;34m:\u001b[0m\u001b[0;34m\u001b[0m\u001b[0m\n\u001b[0;32m-> 2695\u001b[0;31m             \u001b[0;32mreturn\u001b[0m \u001b[0mself\u001b[0m\u001b[0;34m.\u001b[0m\u001b[0m_get_item_cache\u001b[0m\u001b[0;34m(\u001b[0m\u001b[0mkey\u001b[0m\u001b[0;34m)\u001b[0m\u001b[0;34m\u001b[0m\u001b[0m\n\u001b[0m\u001b[1;32m   2696\u001b[0m \u001b[0;34m\u001b[0m\u001b[0m\n\u001b[1;32m   2697\u001b[0m         \u001b[0;31m# duplicate columns & possible reduce dimensionality\u001b[0m\u001b[0;34m\u001b[0m\u001b[0;34m\u001b[0m\u001b[0m\n",
      "\u001b[0;32m/anaconda2/envs/PythonData/lib/python3.6/site-packages/pandas/core/generic.py\u001b[0m in \u001b[0;36m_get_item_cache\u001b[0;34m(self, item)\u001b[0m\n\u001b[1;32m   2487\u001b[0m         \u001b[0mres\u001b[0m \u001b[0;34m=\u001b[0m \u001b[0mcache\u001b[0m\u001b[0;34m.\u001b[0m\u001b[0mget\u001b[0m\u001b[0;34m(\u001b[0m\u001b[0mitem\u001b[0m\u001b[0;34m)\u001b[0m\u001b[0;34m\u001b[0m\u001b[0m\n\u001b[1;32m   2488\u001b[0m         \u001b[0;32mif\u001b[0m \u001b[0mres\u001b[0m \u001b[0;32mis\u001b[0m \u001b[0;32mNone\u001b[0m\u001b[0;34m:\u001b[0m\u001b[0;34m\u001b[0m\u001b[0m\n\u001b[0;32m-> 2489\u001b[0;31m             \u001b[0mvalues\u001b[0m \u001b[0;34m=\u001b[0m \u001b[0mself\u001b[0m\u001b[0;34m.\u001b[0m\u001b[0m_data\u001b[0m\u001b[0;34m.\u001b[0m\u001b[0mget\u001b[0m\u001b[0;34m(\u001b[0m\u001b[0mitem\u001b[0m\u001b[0;34m)\u001b[0m\u001b[0;34m\u001b[0m\u001b[0m\n\u001b[0m\u001b[1;32m   2490\u001b[0m             \u001b[0mres\u001b[0m \u001b[0;34m=\u001b[0m \u001b[0mself\u001b[0m\u001b[0;34m.\u001b[0m\u001b[0m_box_item_values\u001b[0m\u001b[0;34m(\u001b[0m\u001b[0mitem\u001b[0m\u001b[0;34m,\u001b[0m \u001b[0mvalues\u001b[0m\u001b[0;34m)\u001b[0m\u001b[0;34m\u001b[0m\u001b[0m\n\u001b[1;32m   2491\u001b[0m             \u001b[0mcache\u001b[0m\u001b[0;34m[\u001b[0m\u001b[0mitem\u001b[0m\u001b[0;34m]\u001b[0m \u001b[0;34m=\u001b[0m \u001b[0mres\u001b[0m\u001b[0;34m\u001b[0m\u001b[0m\n",
      "\u001b[0;32m/anaconda2/envs/PythonData/lib/python3.6/site-packages/pandas/core/internals.py\u001b[0m in \u001b[0;36mget\u001b[0;34m(self, item, fastpath)\u001b[0m\n\u001b[1;32m   4113\u001b[0m \u001b[0;34m\u001b[0m\u001b[0m\n\u001b[1;32m   4114\u001b[0m             \u001b[0;32mif\u001b[0m \u001b[0;32mnot\u001b[0m \u001b[0misna\u001b[0m\u001b[0;34m(\u001b[0m\u001b[0mitem\u001b[0m\u001b[0;34m)\u001b[0m\u001b[0;34m:\u001b[0m\u001b[0;34m\u001b[0m\u001b[0m\n\u001b[0;32m-> 4115\u001b[0;31m                 \u001b[0mloc\u001b[0m \u001b[0;34m=\u001b[0m \u001b[0mself\u001b[0m\u001b[0;34m.\u001b[0m\u001b[0mitems\u001b[0m\u001b[0;34m.\u001b[0m\u001b[0mget_loc\u001b[0m\u001b[0;34m(\u001b[0m\u001b[0mitem\u001b[0m\u001b[0;34m)\u001b[0m\u001b[0;34m\u001b[0m\u001b[0m\n\u001b[0m\u001b[1;32m   4116\u001b[0m             \u001b[0;32melse\u001b[0m\u001b[0;34m:\u001b[0m\u001b[0;34m\u001b[0m\u001b[0m\n\u001b[1;32m   4117\u001b[0m                 \u001b[0mindexer\u001b[0m \u001b[0;34m=\u001b[0m \u001b[0mnp\u001b[0m\u001b[0;34m.\u001b[0m\u001b[0marange\u001b[0m\u001b[0;34m(\u001b[0m\u001b[0mlen\u001b[0m\u001b[0;34m(\u001b[0m\u001b[0mself\u001b[0m\u001b[0;34m.\u001b[0m\u001b[0mitems\u001b[0m\u001b[0;34m)\u001b[0m\u001b[0;34m)\u001b[0m\u001b[0;34m[\u001b[0m\u001b[0misna\u001b[0m\u001b[0;34m(\u001b[0m\u001b[0mself\u001b[0m\u001b[0;34m.\u001b[0m\u001b[0mitems\u001b[0m\u001b[0;34m)\u001b[0m\u001b[0;34m]\u001b[0m\u001b[0;34m\u001b[0m\u001b[0m\n",
      "\u001b[0;32m/anaconda2/envs/PythonData/lib/python3.6/site-packages/pandas/core/indexes/base.py\u001b[0m in \u001b[0;36mget_loc\u001b[0;34m(self, key, method, tolerance)\u001b[0m\n\u001b[1;32m   3078\u001b[0m                 \u001b[0;32mreturn\u001b[0m \u001b[0mself\u001b[0m\u001b[0;34m.\u001b[0m\u001b[0m_engine\u001b[0m\u001b[0;34m.\u001b[0m\u001b[0mget_loc\u001b[0m\u001b[0;34m(\u001b[0m\u001b[0mkey\u001b[0m\u001b[0;34m)\u001b[0m\u001b[0;34m\u001b[0m\u001b[0m\n\u001b[1;32m   3079\u001b[0m             \u001b[0;32mexcept\u001b[0m \u001b[0mKeyError\u001b[0m\u001b[0;34m:\u001b[0m\u001b[0;34m\u001b[0m\u001b[0m\n\u001b[0;32m-> 3080\u001b[0;31m                 \u001b[0;32mreturn\u001b[0m \u001b[0mself\u001b[0m\u001b[0;34m.\u001b[0m\u001b[0m_engine\u001b[0m\u001b[0;34m.\u001b[0m\u001b[0mget_loc\u001b[0m\u001b[0;34m(\u001b[0m\u001b[0mself\u001b[0m\u001b[0;34m.\u001b[0m\u001b[0m_maybe_cast_indexer\u001b[0m\u001b[0;34m(\u001b[0m\u001b[0mkey\u001b[0m\u001b[0;34m)\u001b[0m\u001b[0;34m)\u001b[0m\u001b[0;34m\u001b[0m\u001b[0m\n\u001b[0m\u001b[1;32m   3081\u001b[0m \u001b[0;34m\u001b[0m\u001b[0m\n\u001b[1;32m   3082\u001b[0m         \u001b[0mindexer\u001b[0m \u001b[0;34m=\u001b[0m \u001b[0mself\u001b[0m\u001b[0;34m.\u001b[0m\u001b[0mget_indexer\u001b[0m\u001b[0;34m(\u001b[0m\u001b[0;34m[\u001b[0m\u001b[0mkey\u001b[0m\u001b[0;34m]\u001b[0m\u001b[0;34m,\u001b[0m \u001b[0mmethod\u001b[0m\u001b[0;34m=\u001b[0m\u001b[0mmethod\u001b[0m\u001b[0;34m,\u001b[0m \u001b[0mtolerance\u001b[0m\u001b[0;34m=\u001b[0m\u001b[0mtolerance\u001b[0m\u001b[0;34m)\u001b[0m\u001b[0;34m\u001b[0m\u001b[0m\n",
      "\u001b[0;32mpandas/_libs/index.pyx\u001b[0m in \u001b[0;36mpandas._libs.index.IndexEngine.get_loc\u001b[0;34m()\u001b[0m\n",
      "\u001b[0;32mpandas/_libs/index.pyx\u001b[0m in \u001b[0;36mpandas._libs.index.IndexEngine.get_loc\u001b[0;34m()\u001b[0m\n",
      "\u001b[0;32mpandas/_libs/hashtable_class_helper.pxi\u001b[0m in \u001b[0;36mpandas._libs.hashtable.PyObjectHashTable.get_item\u001b[0;34m()\u001b[0m\n",
      "\u001b[0;32mpandas/_libs/hashtable_class_helper.pxi\u001b[0m in \u001b[0;36mpandas._libs.hashtable.PyObjectHashTable.get_item\u001b[0;34m()\u001b[0m\n",
      "\u001b[0;31mKeyError\u001b[0m: 'Country Name'"
     ]
    }
   ],
   "source": [
    "#Move Years to a single column\n",
    "consumption_clean2 = pd.melt(consumption_clean, id_vars=['Country Name'], var_name=\"Year\", value_name=\"Coffee Consumed\")\n",
    "consumption_clean2\n",
    "\n"
   ]
  },
  {
   "cell_type": "code",
   "execution_count": null,
   "metadata": {},
   "outputs": [],
   "source": [
    "#Remove Extra spaces in front of Country Names\n",
    "consumption_clean2[\"Country Name\"] = consumption_clean2[\"Country Name\"].str.strip()\n"
   ]
  },
  {
   "cell_type": "code",
   "execution_count": null,
   "metadata": {
    "scrolled": false
   },
   "outputs": [],
   "source": [
    "#View Financial Data Set\n",
    "financial_data.head()\n"
   ]
  },
  {
   "cell_type": "code",
   "execution_count": null,
   "metadata": {},
   "outputs": [],
   "source": [
    "#Drop Unneeded Columns\n",
    "financial_data_clean = financial_data.drop(columns=['sex', 'age', 'suicides_no',\n",
    "                                                    'suicides/100k pop', 'country-year', 'HDI for year', 'generation'])\n",
    "financial_data_clean.columns\n"
   ]
  },
  {
   "cell_type": "code",
   "execution_count": null,
   "metadata": {},
   "outputs": [],
   "source": [
    "#Group by Country and Year\n",
    "financial_group = financial_data_clean.groupby([\"country\", \"year\", \" gdp_for_year ($) \",\n",
    "                                                \"gdp_per_capita ($)\"])\n",
    "\n",
    "total_pop = financial_group.sum()\n",
    "total_pop.reset_index(inplace=True)\n",
    "total_pop.head()"
   ]
  },
  {
   "cell_type": "code",
   "execution_count": null,
   "metadata": {},
   "outputs": [],
   "source": [
    "#rename country to Country Name and year to Year\n",
    "total_pop.rename(index=str, columns={\"country\": \"Country Name\",\"year\": \"Year\" }, inplace=True)\n"
   ]
  },
  {
   "cell_type": "code",
   "execution_count": null,
   "metadata": {},
   "outputs": [],
   "source": [
    "total_pop.head()"
   ]
  },
  {
   "cell_type": "code",
   "execution_count": null,
   "metadata": {},
   "outputs": [],
   "source": [
    "#View GDP per Hour Worked file\n",
    "gdp_perhw_data.dtypes\n"
   ]
  },
  {
   "cell_type": "code",
   "execution_count": null,
   "metadata": {},
   "outputs": [],
   "source": [
    "#Drop Unneeded Columns\n",
    "gdph_clean = gdp_perhw_data.drop(columns=['LOCATION', 'INDICATOR', 'SUBJECT',\n",
    "                                                    'FREQUENCY', 'Flag Codes'])\n",
    "#rename Country to Country Name\n",
    "gdph_clean.rename(index=str, columns={\"Country\": \"Country Name\", \"TIME\": \"Year\"}, inplace=True)\n",
    "gdph_clean.head()"
   ]
  },
  {
   "cell_type": "code",
   "execution_count": null,
   "metadata": {},
   "outputs": [],
   "source": [
    "#Remove extra spaces in front of country name\n",
    "gdph_clean[\"Country Name\"] = gdph_clean[\"Country Name\"].str.strip()\n",
    "\n",
    "#Convert Year to object\n",
    "gdph_clean[\"Year\"] = gdph_clean[\"Year\"].astype(object)\n",
    "\n"
   ]
  },
  {
   "cell_type": "code",
   "execution_count": null,
   "metadata": {},
   "outputs": [],
   "source": [
    "#View Unemployment data\n",
    "Unemployment_data.head()"
   ]
  },
  {
   "cell_type": "code",
   "execution_count": null,
   "metadata": {},
   "outputs": [],
   "source": [
    "#Drop Uneeded Columns\n",
    "Unemployment_data.drop(columns=['Country Code', 'Indicator Name'], inplace = True)\n",
    "Unemployment_data.head()"
   ]
  },
  {
   "cell_type": "code",
   "execution_count": null,
   "metadata": {},
   "outputs": [],
   "source": [
    "#Rename Value to %Unemployed\n",
    "Unemployment_data.rename(index=str, columns={\"Value\": \"% Unemployed\"}, inplace=True)\n",
    "Unemployment_data.head()"
   ]
  },
  {
   "cell_type": "code",
   "execution_count": null,
   "metadata": {},
   "outputs": [],
   "source": [
    "consumption_clean2['Country Name'] = consumption_clean2['Country Name'].astype(str)\n",
    "consumption_clean2['Year'] = consumption_clean2['Year'].astype(str)\n",
    "consumption_clean2.dtypes"
   ]
  },
  {
   "cell_type": "code",
   "execution_count": null,
   "metadata": {},
   "outputs": [],
   "source": [
    "gdph_clean['Country Name'] = gdph_clean['Country Name'].astype(str)\n",
    "gdph_clean['Year'] = gdph_clean['Year'].astype(str)\n",
    "gdph_clean.dtypes"
   ]
  },
  {
   "cell_type": "code",
   "execution_count": null,
   "metadata": {},
   "outputs": [],
   "source": [
    "total_pop['Year'] = total_pop['Year'].astype(str)\n",
    "total_pop.dtypes"
   ]
  },
  {
   "cell_type": "code",
   "execution_count": null,
   "metadata": {},
   "outputs": [],
   "source": [
    "total_pop['Year'] = total_pop['Year'].astype(str)\n",
    "Unemployment_data.dtypes"
   ]
  },
  {
   "cell_type": "code",
   "execution_count": null,
   "metadata": {},
   "outputs": [],
   "source": [
    "#Merge Data Sets \n",
    "combine_1 = pd.merge(consumption_clean2, gdph_clean, how='left', on=['Country Name', 'Year'])\n",
    "combine_1.head()\n"
   ]
  },
  {
   "cell_type": "code",
   "execution_count": null,
   "metadata": {},
   "outputs": [],
   "source": [
    "combine_2 = pd.merge(combine_1, total_pop, how='left', on=['Country Name', 'Year'])\n",
    "combine_2.head()"
   ]
  },
  {
   "cell_type": "code",
   "execution_count": null,
   "metadata": {},
   "outputs": [],
   "source": [
    "combine_3 = pd.merge(combine_2, Unemployment_data, how='left', on=['Country Name', 'Year'])\n",
    "combine_3.head()"
   ]
  },
  {
   "cell_type": "code",
   "execution_count": null,
   "metadata": {},
   "outputs": [],
   "source": [
    "combine_clean = combine_3.loc[combine_3[\"MEASURE\"] == \"USD\", :]\n",
    "combine_clean.head()"
   ]
  },
  {
   "cell_type": "code",
   "execution_count": null,
   "metadata": {},
   "outputs": [],
   "source": [
    "combine_clean.count()"
   ]
  },
  {
   "cell_type": "code",
   "execution_count": null,
   "metadata": {},
   "outputs": [],
   "source": [
    "#Drop NA's\n",
    "combine_clean2 = combine_clean.dropna(how='any')\n",
    "combine_clean2.count()"
   ]
  },
  {
   "cell_type": "code",
   "execution_count": null,
   "metadata": {},
   "outputs": [],
   "source": [
    "#Write to csv\n",
    "combine_clean2.to_csv(\"project data.csv\", index=False)"
   ]
  },
  {
   "cell_type": "code",
   "execution_count": null,
   "metadata": {},
   "outputs": [],
   "source": [
    "srini_data.head()\n",
    "srini_data.rename(index=str, columns={\"Value\": \"Coffee Consumed\"}, inplace=True)\n",
    "\n",
    "srini_data.head()"
   ]
  },
  {
   "cell_type": "code",
   "execution_count": null,
   "metadata": {},
   "outputs": [],
   "source": [
    "srini_data['Year'] = srini_data['Year'].astype(str)\n",
    "srini_data['Country Name'] = srini_data['Country Name'].astype(str)\n",
    "srini_data.dtypes"
   ]
  },
  {
   "cell_type": "code",
   "execution_count": null,
   "metadata": {},
   "outputs": [],
   "source": [
    "scombine_1 = pd.merge(srini_data, gdph_clean, how='left', on=['Country Name', 'Year'])\n",
    "scombine_1.head()"
   ]
  },
  {
   "cell_type": "code",
   "execution_count": null,
   "metadata": {},
   "outputs": [],
   "source": [
    "scombine_2 = pd.merge(scombine_1, total_pop, how='left', on=['Country Name', 'Year'])\n",
    "scombine_2.head()"
   ]
  },
  {
   "cell_type": "code",
   "execution_count": null,
   "metadata": {},
   "outputs": [],
   "source": [
    "scombine_3 = pd.merge(scombine_2, Unemployment_data, how='left', on=['Country Name', 'Year'])\n",
    "scombine_3.head()"
   ]
  },
  {
   "cell_type": "code",
   "execution_count": null,
   "metadata": {},
   "outputs": [],
   "source": [
    "scombine_clean = scombine_3.loc[scombine_3[\"MEASURE\"] == \"USD\", :]"
   ]
  },
  {
   "cell_type": "code",
   "execution_count": null,
   "metadata": {},
   "outputs": [],
   "source": [
    "#Drop NA's\n",
    "scombine_clean2 = scombine_clean.dropna(how='any')\n",
    "scombine_clean2.count()"
   ]
  },
  {
   "cell_type": "code",
   "execution_count": null,
   "metadata": {},
   "outputs": [],
   "source": [
    "scombine_clean2.to_csv(\"project data(srini data).csv\", index=False)"
   ]
  },
  {
   "cell_type": "code",
   "execution_count": null,
   "metadata": {},
   "outputs": [],
   "source": []
  }
 ],
 "metadata": {
  "kernelspec": {
   "display_name": "Python 3",
   "language": "python",
   "name": "python3"
  },
  "language_info": {
   "codemirror_mode": {
    "name": "ipython",
    "version": 3
   },
   "file_extension": ".py",
   "mimetype": "text/x-python",
   "name": "python",
   "nbconvert_exporter": "python",
   "pygments_lexer": "ipython3",
   "version": "3.6.6"
  }
 },
 "nbformat": 4,
 "nbformat_minor": 2
}
