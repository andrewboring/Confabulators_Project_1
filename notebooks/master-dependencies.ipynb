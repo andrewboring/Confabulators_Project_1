{
 "cells": [
  {
   "cell_type": "code",
   "execution_count": null,
   "metadata": {},
   "outputs": [],
   "source": []
  },
  {
   "cell_type": "code",
   "execution_count": null,
   "metadata": {},
   "outputs": [],
   "source": [
    "country_type_colors = ['#78C850',  # Austria\n",
    "                    '#F08030',  # Belgium\n",
    "                    '#6890F0',  # Bulgaria\n",
    "                    '#A8B820',  # Croatia\n",
    "                    '#A8A878',  # Czech Republic\n",
    "                    '#A040A0',  # Denmark\n",
    "                    '#F8D030',  # Finland\n",
    "                    '#E0C068',  # France\n",
    "                    '#EE99AC',  # Germany\n",
    "                    '#C03028',  # Greece\n",
    "                    '#F85888',  # Hungary\n",
    "                    '#B8A038',  # Ireland\n",
    "                    '#705898',  # Italy\n",
    "                    '#98D8D8',  # Japan\n",
    "                    '#7038F8',  # Latvia\n",
    "                    '#78C850',  # Lithuania\n",
    "                    '#F08030',  # Luxembourg\n",
    "                    '#6890F0',  # Netherlands\n",
    "                    '#A8B820',  # Norway\n",
    "                    '#A8A878',  # Poland\n",
    "                    '#A040A0',  # Portugal\n",
    "                    '#F8D030',  # Romania\n",
    "                    '#E0C068',  # Russian Federation\n",
    "                    '#EE99AC',  # Slovenia\n",
    "                    '#C03028',  # Spain\n",
    "                    '#F85888',  # Sweden\n",
    "                    '#B8A038',  # Switzerland\n",
    "                    '#705898',  # United Kingdom\n",
    "                    '#98D8D8'] # United States of America"
   ]
  }
 ],
 "metadata": {
  "kernelspec": {
   "display_name": "Python 3",
   "language": "python",
   "name": "python3"
  },
  "language_info": {
   "codemirror_mode": {
    "name": "ipython",
    "version": 3
   },
   "file_extension": ".py",
   "mimetype": "text/x-python",
   "name": "python",
   "nbconvert_exporter": "python",
   "pygments_lexer": "ipython3",
   "version": "3.6.6"
  }
 },
 "nbformat": 4,
 "nbformat_minor": 2
}
