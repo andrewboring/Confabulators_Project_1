{
 "cells": [
  {
   "cell_type": "code",
   "execution_count": 1,
   "metadata": {
    "scrolled": true
   },
   "outputs": [],
   "source": [
    "# Dependencies and Setup\n",
    "%matplotlib inline\n",
    "import matplotlib.pyplot as plt\n",
    "from statistics import mean\n",
    "import pandas as pd\n",
    "import numpy as np\n",
    "import plotly.plotly as py\n",
    "import plotly.graph_objs as go\n",
    "from plotly import tools\n",
    "from plotly.offline import iplot, init_notebook_mode\n",
    "init_notebook_mode()\n",
    "\n",
    "# Hide warning messages in notebook\n",
    "import warnings\n",
    "warnings.filterwarnings('ignore')\n",
    "\n",
    "# File to Load ()\n",
    "coffee_data_to_load = \"data/project_data.csv\"\n",
    "per_capita_coffee_data_to_load = \"data/project_data_with_percapita_consumption.csv\"\n",
    "\n",
    "# Read the Data\n",
    "country_data_location_df = pd.read_csv('data/data_map.csv')\n",
    "coffee_data = pd.read_csv(coffee_data_to_load)\n",
    "per_capita_coffee_data = pd.read_csv(per_capita_coffee_data_to_load)\n",
    "\n",
    "plt.rcParams[\"figure.figsize\"] = 16,9\n",
    "\n"
   ]
  }
 ],
 "metadata": {
  "kernelspec": {
   "display_name": "Python 3",
   "language": "python",
   "name": "python3"
  },
  "language_info": {
   "codemirror_mode": {
    "name": "ipython",
    "version": 3
   },
   "file_extension": ".py",
   "mimetype": "text/x-python",
   "name": "python",
   "nbconvert_exporter": "python",
   "pygments_lexer": "ipython3",
   "version": "3.6.6"
  }
 },
 "nbformat": 4,
 "nbformat_minor": 2
}
