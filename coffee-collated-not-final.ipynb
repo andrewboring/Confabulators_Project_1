{
 "cells": [
  {
   "cell_type": "markdown",
   "metadata": {},
   "source": [
    "# Coffee and Productivity\n",
    "\n",
    "Andrew Branch\n",
    "\n",
    "Does coffee consumption in a population correlate with higher productivity as measured in GDP per hour worked?\n",
    "\n",
    "Background: On an individual level, consumption of coffee and its active ingredient, caffeine (a stimulant), is associated with higher levels of “energy” and “productivity”. But in a given population, such as a nation-state, does higher coffee consumption indicate a higher level of productivity? \n"
   ]
  },
  {
   "cell_type": "code",
   "execution_count": 20,
   "metadata": {},
   "outputs": [],
   "source": [
    "# Dependencies and Setup\n",
    "%matplotlib inline\n",
    "import matplotlib.pyplot as plt\n",
    "import pandas as pd\n",
    "import numpy as np\n",
    "from scipy import stats\n",
    "from numpy.polynomial.polynomial import polyfit\n",
    "\n",
    "# Hide warning messages in notebook\n",
    "import warnings\n",
    "warnings.filterwarnings('ignore')\n",
    "\n",
    "# File to Load (Remember to Change These)\n",
    "coffee_data_to_load = \"data/project_data.csv\"\n",
    "\n",
    "# Read the Data\n",
    "coffee_data = pd.read_csv(coffee_data_to_load)\n",
    "\n",
    "\n",
    "#coffee_data.head()\n",
    "# plt.rcParams[\"figure.figsize\"] = 16,9\n",
    "\n",
    "# Some srini stuff\n",
    "#coffee_data.head()\n",
    "#coffee_data.columns\n",
    "# plt.rcParams[\"figure.figsize\"] = 16,9"
   ]
  },
  {
   "cell_type": "code",
   "execution_count": 16,
   "metadata": {},
   "outputs": [
    {
     "data": {
      "image/png": "[encoded data removed]",
      "text/plain": [
       "<Figure size 432x288 with 1 Axes>"
      ]
     },
     "metadata": {
      "needs_background": "light"
     },
     "output_type": "display_data"
    }
   ],
   "source": []
  },
  {
   "cell_type": "markdown",
   "metadata": {},
   "source": [
    "## 1-1. World Coffee Consumption by Year: Does World Consume More Coffee Over Time?\n",
    "mean coffee consumption by year (line graph) - \n",
    "x axis = year\n",
    "y axis = coffee amount\n",
    "Karen"
   ]
  },
  {
   "cell_type": "code",
   "execution_count": 1,
   "metadata": {},
   "outputs": [],
   "source": [
    "# KarenM \n",
    "# Commit eab341c\n",
    "year = per_capita_coffee_data.iloc[:,1].unique()"
   ]
  },
  {
   "cell_type": "code",
   "execution_count": null,
   "metadata": {},
   "outputs": [],
   "source": [
    "avg_coffee_consumption = round(per_capita_coffee_data.groupby(\"Year\")[\"Coffee Consumed\"].mean(),2)\n",
    "#avg_coffee_consumption"
   ]
  },
  {
   "cell_type": "code",
   "execution_count": null,
   "metadata": {},
   "outputs": [],
   "source": [
    "country = per_capita_coffee_data.iloc[:, 0].unique()\n",
    "#country"
   ]
  },
  {
   "cell_type": "code",
   "execution_count": null,
   "metadata": {},
   "outputs": [],
   "source": [
    "avg_coffee_consumption_ctry = round(per_capita_coffee_data.groupby([\"Country Name\", \"Year\"])[\"Coffee Consumed\"].mean(),2)\n",
    "#avg_coffee_consumption_ctry.head()"
   ]
  },
  {
   "cell_type": "code",
   "execution_count": 10,
   "metadata": {},
   "outputs": [
    {
     "ename": "NameError",
     "evalue": "name 'per_capita_coffee_data' is not defined",
     "output_type": "error",
     "traceback": [
      "\u001b[0;31m---------------------------------------------------------------------------\u001b[0m",
      "\u001b[0;31mNameError\u001b[0m                                 Traceback (most recent call last)",
      "\u001b[0;32m<ipython-input-10-4045d8d5a39a>\u001b[0m in \u001b[0;36m<module>\u001b[0;34m()\u001b[0m\n\u001b[1;32m      2\u001b[0m \u001b[0;31m# Create line graph to illlustrate mean coffee consumption by year\u001b[0m\u001b[0;34m\u001b[0m\u001b[0;34m\u001b[0m\u001b[0m\n\u001b[1;32m      3\u001b[0m \u001b[0;34m\u001b[0m\u001b[0m\n\u001b[0;32m----> 4\u001b[0;31m \u001b[0mcoffee_consumption_by_ctry_per_capita\u001b[0m \u001b[0;34m=\u001b[0m \u001b[0mper_capita_coffee_data\u001b[0m\u001b[0;34m[\u001b[0m\u001b[0;34m[\u001b[0m\u001b[0;34m\"Country Name\"\u001b[0m\u001b[0;34m,\u001b[0m\u001b[0;34m\"Year\"\u001b[0m\u001b[0;34m,\u001b[0m\u001b[0;34m\"Coffee Consumed per Capita in Kg\"\u001b[0m\u001b[0;34m]\u001b[0m\u001b[0;34m]\u001b[0m\u001b[0;34m\u001b[0m\u001b[0m\n\u001b[0m\u001b[1;32m      5\u001b[0m \u001b[0;34m\u001b[0m\u001b[0m\n\u001b[1;32m      6\u001b[0m \u001b[0mcoffee_consumption_pivot_per_capita\u001b[0m \u001b[0;34m=\u001b[0m \u001b[0mcoffee_consumption_by_ctry_per_capita\u001b[0m\u001b[0;34m.\u001b[0m\u001b[0mpivot\u001b[0m\u001b[0;34m(\u001b[0m\u001b[0mindex\u001b[0m\u001b[0;34m=\u001b[0m\u001b[0;34m\"Year\"\u001b[0m\u001b[0;34m,\u001b[0m \u001b[0mcolumns\u001b[0m\u001b[0;34m=\u001b[0m\u001b[0;34m\"Country Name\"\u001b[0m\u001b[0;34m,\u001b[0m \u001b[0mvalues\u001b[0m\u001b[0;34m=\u001b[0m\u001b[0;34m\"Coffee Consumed per Capita in Kg\"\u001b[0m\u001b[0;34m)\u001b[0m\u001b[0;34m\u001b[0m\u001b[0m\n",
      "\u001b[0;31mNameError\u001b[0m: name 'per_capita_coffee_data' is not defined"
     ]
    }
   ],
   "source": [
    "# Commit eab341c\n",
    "# Create line graph to illlustrate mean coffee consumption by year\n",
    "\n",
    "coffee_consumption_by_ctry_per_capita = per_capita_coffee_data[[\"Country Name\",\"Year\",\"Coffee Consumed per Capita in Kg\"]]\n",
    "\n",
    "coffee_consumption_pivot_per_capita = coffee_consumption_by_ctry_per_capita.pivot(index=\"Year\", columns=\"Country Name\", values=\"Coffee Consumed per Capita in Kg\")\n",
    "\n",
    "avg_cofee_consumption_data = coffee_consumption_pivot_per_capita.mean(axis=1)\n",
    "\n",
    "plt.plot(year, avg_cofee_consumption_data, linewidth=1, marker=\"o\")\n",
    "plt.title(\"World Coffee Consumption by Year\",{\"fontsize\":16})\n",
    "plt.ylabel(\"Average Yearly Coffee Consumption (Kg)\")\n",
    "plt.xlabel(\"Year\")\n",
    "#set_xlim(min(year), max(year)\n",
    "       \n",
    "# Create line graph\n",
    "#plt.savefig(avg_coffee_consumption_per_capita)\n",
    "plt.show()"
   ]
  },
  {
   "cell_type": "code",
   "execution_count": null,
   "metadata": {},
   "outputs": [],
   "source": [
    "coffee_consumption_pivot_per_capita"
   ]
  },
  {
   "cell_type": "code",
   "execution_count": null,
   "metadata": {},
   "outputs": [],
   "source": [
    "# Create line graph for coffee consumption per capita for all countries\n",
    "\n",
    "\n",
    "cons_per_capita_by_ctry = coffee_consumption_pivot_per_capita.plot.line(linewidth=1, marker=\"o\")\n",
    "\n",
    "plt.title(\"Yearly Coffee Consumption by Country\",{\"fontsize\":16})\n",
    "plt.ylabel(\"Yearly Coffee Consumption per Capita (kg)\")\n",
    "plt.xlabel(\"Year\")\n",
    "plt.show()"
   ]
  },
  {
   "cell_type": "code",
   "execution_count": null,
   "metadata": {},
   "outputs": [],
   "source": [
    "#plt.boxplot(coffee_consumption_pivot_per_capita)\n",
    "\n",
    "\n",
    "boxplot = coffee_consumption_pivot_per_capita.boxplot(return_type='axes')\n",
    "\n",
    "plt.title(\"Yearly Coffee Consumption by Country\",{\"fontsize\":16})\n",
    "plt.ylabel(\"Yearly Coffee Consumption per Capita (kg)\")\n",
    "plt.xlabel(\"Year\")\n",
    "plt.show()"
   ]
  },
  {
   "cell_type": "code",
   "execution_count": null,
   "metadata": {},
   "outputs": [],
   "source": [
    "import seaborn as sns\n",
    "sns.set(style=\"whitegrid\")\n",
    "\n",
    "ax = sns.boxplot(x=\"Year\", y=\"Coffee Consumed per Capita in Kg\", data=per_capita_coffee_data, palette=\"Set1\")\n",
    "ax = sns.swarmplot(x=\"Year\", y=\"Coffee Consumed per Capita in Kg\", data=per_capita_coffee_data, color=\".25\")"
   ]
  },
  {
   "cell_type": "markdown",
   "metadata": {},
   "source": [
    "## 1-2. Coffee Consumption Trend by Country: How Much Coffee Is Consumed by Year (in Total)?\n",
    "use project_data.csv to generate the plot. (line graph) - mean by year. \n",
    "Plot in line.\n",
    "Karen"
   ]
  },
  {
   "cell_type": "code",
   "execution_count": 13,
   "metadata": {},
   "outputs": [
    {
     "data": {
      "text/html": [
       "<div>\n",
       "<style scoped>\n",
       "    .dataframe tbody tr th:only-of-type {\n",
       "        vertical-align: middle;\n",
       "    }\n",
       "\n",
       "    .dataframe tbody tr th {\n",
       "        vertical-align: top;\n",
       "    }\n",
       "\n",
       "    .dataframe thead th {\n",
       "        text-align: right;\n",
       "    }\n",
       "</style>\n",
       "<table border=\"1\" class=\"dataframe\">\n",
       "  <thead>\n",
       "    <tr style=\"text-align: right;\">\n",
       "      <th></th>\n",
       "      <th>Country Name</th>\n",
       "      <th>Year</th>\n",
       "      <th>Coffee Consumed</th>\n",
       "      <th>MEASURE</th>\n",
       "      <th>gdp_per_hour_worked</th>\n",
       "      <th>gdp_for_year</th>\n",
       "      <th>gdp_per_capita</th>\n",
       "      <th>population</th>\n",
       "      <th>Unemployed (%)</th>\n",
       "    </tr>\n",
       "  </thead>\n",
       "  <tbody>\n",
       "    <tr>\n",
       "      <th>0</th>\n",
       "      <td>Austria</td>\n",
       "      <td>1999</td>\n",
       "      <td>1123</td>\n",
       "      <td>USD</td>\n",
       "      <td>43.67</td>\n",
       "      <td>217185787343</td>\n",
       "      <td>28722</td>\n",
       "      <td>7561609</td>\n",
       "      <td>3.7</td>\n",
       "    </tr>\n",
       "    <tr>\n",
       "      <th>1</th>\n",
       "      <td>Austria</td>\n",
       "      <td>2000</td>\n",
       "      <td>875</td>\n",
       "      <td>USD</td>\n",
       "      <td>44.71</td>\n",
       "      <td>196799778883</td>\n",
       "      <td>25922</td>\n",
       "      <td>7592073</td>\n",
       "      <td>3.5</td>\n",
       "    </tr>\n",
       "    <tr>\n",
       "      <th>2</th>\n",
       "      <td>Austria</td>\n",
       "      <td>2001</td>\n",
       "      <td>1013</td>\n",
       "      <td>USD</td>\n",
       "      <td>45.28</td>\n",
       "      <td>197337879195</td>\n",
       "      <td>25848</td>\n",
       "      <td>7634560</td>\n",
       "      <td>3.6</td>\n",
       "    </tr>\n",
       "    <tr>\n",
       "      <th>3</th>\n",
       "      <td>Austria</td>\n",
       "      <td>2002</td>\n",
       "      <td>926</td>\n",
       "      <td>USD</td>\n",
       "      <td>46.14</td>\n",
       "      <td>213377771504</td>\n",
       "      <td>27772</td>\n",
       "      <td>7683162</td>\n",
       "      <td>4.0</td>\n",
       "    </tr>\n",
       "    <tr>\n",
       "      <th>4</th>\n",
       "      <td>Austria</td>\n",
       "      <td>2003</td>\n",
       "      <td>720</td>\n",
       "      <td>USD</td>\n",
       "      <td>46.51</td>\n",
       "      <td>261695778781</td>\n",
       "      <td>33889</td>\n",
       "      <td>7722033</td>\n",
       "      <td>4.3</td>\n",
       "    </tr>\n",
       "  </tbody>\n",
       "</table>\n",
       "</div>"
      ],
      "text/plain": [
       "  Country Name  Year  Coffee Consumed MEASURE  gdp_per_hour_worked  \\\n",
       "0      Austria  1999             1123     USD                43.67   \n",
       "1      Austria  2000              875     USD                44.71   \n",
       "2      Austria  2001             1013     USD                45.28   \n",
       "3      Austria  2002              926     USD                46.14   \n",
       "4      Austria  2003              720     USD                46.51   \n",
       "\n",
       "    gdp_for_year  gdp_per_capita  population  Unemployed (%)  \n",
       "0   217185787343           28722     7561609             3.7  \n",
       "1   196799778883           25922     7592073             3.5  \n",
       "2   197337879195           25848     7634560             3.6  \n",
       "3   213377771504           27772     7683162             4.0  \n",
       "4   261695778781           33889     7722033             4.3  "
      ]
     },
     "execution_count": 13,
     "metadata": {},
     "output_type": "execute_result"
    }
   ],
   "source": [
    "\n"
   ]
  },
  {
   "cell_type": "code",
   "execution_count": 12,
   "metadata": {},
   "outputs": [],
   "source": [
    "\n",
    "coffee_by_country = coffee_data.groupby([\"Country Name\"])"
   ]
  },
  {
   "cell_type": "markdown",
   "metadata": {},
   "source": [
    "## 3-1. Overall Productivity Trend: Does Productivity Grow by Year? (Growth in labour productivity indicates a higher level of output for every hour worked)\n",
    "mean productivity (line plot)\n",
    "x axis = year\n",
    "y axis = GDPhrwkd\n",
    "Jin"
   ]
  },
  {
   "cell_type": "code",
   "execution_count": null,
   "metadata": {},
   "outputs": [],
   "source": [
    "# From JK Branch\n",
    "# Commit #03f2a36\n",
    "\n",
    "# Store the Productivity(GDP per hour worked) Data Grouped by Country and Year \n",
    "productivity_trend = coffee_data[[\"Country Name\",\"Year\",\"gdp_per_hour_worked\"]]\n",
    "\n",
    "# Preview DataFrame\n",
    "df_productivity_trend =productivity_trend.pivot(index=\"Year\", columns=\"Country Name\", values=\"gdp_per_hour_worked\")\n",
    "\n",
    "# Generate the Plot (with Error Bars)\n",
    "graph_productivity_trend = df_productivity_trend.mean(axis=1).plot()\n",
    "\n",
    "#style\n",
    "graph_productivity_trend.set_ylabel(\"Productivity (GDP per hour worked)\")\n",
    "graph_productivity_trend.set_xlabel(\"Year\")\n",
    "\n",
    "# Draw line of overall coffee consumption \n",
    "# df_productivity_trend.mean(axis=1).plot()\n",
    "\n",
    "# Save the Figure\n",
    "#plt.savefig('graph_productivity_trend.png', bbox_inches=\"tight\")"
   ]
  },
  {
   "cell_type": "markdown",
   "metadata": {},
   "source": [
    "\n",
    "## 3-2. Productivity Trend by Country: How Does Productivity Change by Country Over Time?\n",
    "use project_data.csv to generate the plot. (line graph)  - GDP per hour worked\n",
    "Jin"
   ]
  },
  {
   "cell_type": "code",
   "execution_count": 9,
   "metadata": {},
   "outputs": [
    {
     "ename": "NameError",
     "evalue": "name 'df_productivity_trend' is not defined",
     "output_type": "error",
     "traceback": [
      "\u001b[0;31m---------------------------------------------------------------------------\u001b[0m",
      "\u001b[0;31mNameError\u001b[0m                                 Traceback (most recent call last)",
      "\u001b[0;32m<ipython-input-9-6a4b8160ca61>\u001b[0m in \u001b[0;36m<module>\u001b[0;34m()\u001b[0m\n\u001b[1;32m      1\u001b[0m \u001b[0;31m# Generate the Plot\u001b[0m\u001b[0;34m\u001b[0m\u001b[0;34m\u001b[0m\u001b[0m\n\u001b[0;32m----> 2\u001b[0;31m \u001b[0mgraph_productivity_by_country\u001b[0m \u001b[0;34m=\u001b[0m \u001b[0mdf_productivity_trend\u001b[0m\u001b[0;34m.\u001b[0m\u001b[0mplot\u001b[0m\u001b[0;34m(\u001b[0m\u001b[0;34m)\u001b[0m\u001b[0;34m\u001b[0m\u001b[0m\n\u001b[0m\u001b[1;32m      3\u001b[0m \u001b[0;34m\u001b[0m\u001b[0m\n\u001b[1;32m      4\u001b[0m \u001b[0;31m#style\u001b[0m\u001b[0;34m\u001b[0m\u001b[0;34m\u001b[0m\u001b[0m\n\u001b[1;32m      5\u001b[0m \u001b[0mgraph_productivity_by_country\u001b[0m\u001b[0;34m.\u001b[0m\u001b[0mset_ylabel\u001b[0m\u001b[0;34m(\u001b[0m\u001b[0;34m\"Productivity (GDP per hour worked)\"\u001b[0m\u001b[0;34m)\u001b[0m\u001b[0;34m\u001b[0m\u001b[0m\n",
      "\u001b[0;31mNameError\u001b[0m: name 'df_productivity_trend' is not defined"
     ]
    }
   ],
   "source": [
    "# Generate the Plot \n",
    "graph_productivity_by_country = df_productivity_trend.plot()\n",
    "\n",
    "#style\n",
    "graph_productivity_by_country.set_ylabel(\"Productivity (GDP per hour worked)\")\n",
    "graph_productivity_by_country.set_xlabel(\"Year\")\n",
    "\n",
    "# Draw line of coffee consumption by country\n",
    "# df_productivity_trend.plot()\n",
    "\n",
    "# Save the Figure\n",
    "#plt.savefig('graph_productivity_by_country.png', bbox_inches=\"tight\")\n",
    "\n",
    "# Show the Figure\n",
    "#plt.show()"
   ]
  },
  {
   "cell_type": "markdown",
   "metadata": {},
   "source": [
    "#3-3. Overall Trend: The Mean of Coffee Consumption and the Mean of Productivity by Year (Together)"
   ]
  },
  {
   "cell_type": "code",
   "execution_count": null,
   "metadata": {},
   "outputs": [],
   "source": [
    "# Store the Coffee Consumption Data Grouped by Country and Year \n",
    "coffee_consumption_trend = coffee_data[[\"Country Name\",\"Year\",\"Coffee Consumed\"]]\n",
    "\n",
    "# Preview DataFrame\n",
    "df_coffee_consumption = coffee_consumption_trend.pivot(index=\"Year\", columns=\"Country Name\",values=\"Coffee Consumed\")\n",
    "\n",
    "# Draw line of overall coffee consumption and productivity (multiple axis with different scales)\n",
    "\n",
    "df_coffee_consumption.mean(axis=1).plot(label=\"Coffee Consumed (thousand in 60kg bag)\", legend=True)\n",
    "df_productivity_trend.mean(axis=1).plot(secondary_y=True, label=\"Productivity (GDP per hour worked)\", legend=True)"
   ]
  },
  {
   "cell_type": "markdown",
   "metadata": {},
   "source": [
    "## 2. Top Coffee Drinking Nations (per Capita, kg or lb): Which Country Drinks Coffee the Most per Person in 20XX?\n",
    "use project_data.csv to generate the plot. (bar graph) - top 10? \n",
    "Srini"
   ]
  },
  {
   "cell_type": "code",
   "execution_count": null,
   "metadata": {},
   "outputs": [],
   "source": [
    "# Commit f395f28\n",
    "# Top 10 cofee drinking nations\n",
    "group_by_country = coffee_data.groupby([\"Country Name\"])\n",
    "#Mean of all values by country\n",
    "mean_values_country = group_by_country.mean()\n",
    "mean_values_country_df = pd.DataFrame(mean_values_country)\n",
    "# Top 10 countries copee per capita\n",
    "top_coffee_pc = mean_values_country_df.sort_values(\"Coffee Consumed per Capita in Kg\", ascending = False)\\\n",
    ".head(10).reset_index()\n",
    "top_coffee_pc"
   ]
  },
  {
   "cell_type": "code",
   "execution_count": null,
   "metadata": {},
   "outputs": [],
   "source": [
    "#top 10 Coffee drinking per capita graph\n",
    "plt.figure(figsize=(20,8))\n",
    "sns.set(style=\"whitegrid\")\n",
    "g=sns.barplot(x='Country Name',y='Coffee Consumed per Capita in Kg',data=top_coffee_pc, palette=\"Blues_d\")\n",
    "plt.xticks(rotation=45)\n",
    "plt.title(\"Top 10 Countries By Cofee Consumed Per Capita in Kgs\", size =20)\n",
    "plt.savefig(\"Top_10_Coffee.png\")\n",
    "plt.show()"
   ]
  },
  {
   "cell_type": "code",
   "execution_count": null,
   "metadata": {},
   "outputs": [],
   "source": []
  },
  {
   "cell_type": "markdown",
   "metadata": {},
   "source": [
    "## 4. Top Productivity Countries in 20XX: Which Countries Show Higher Productivity Compare to Other Countries?\n",
    "use project_data.csv to generate the plot. (bubble plot)\n",
    "x axis = countries\n",
    "y axis = productivity (GDPhrworkd)\n",
    "bar graph or scatter plot\n",
    "all countries in data\n",
    "Srini"
   ]
  },
  {
   "cell_type": "code",
   "execution_count": null,
   "metadata": {},
   "outputs": [],
   "source": [
    "# Commit f395f28\n",
    "# Top 10 productivity countries per capita\n",
    "top_productivity_pc = mean_values_country_df.sort_values(\"gdp_per_hour_worked ($)\", ascending = False)\\\n",
    ".head(10).reset_index()\n",
    "top_productivity_pc\n",
    "#top 10 Coffee drinking per person graph\n",
    "sns.set(style=\"whitegrid\")\n",
    "plt.figure(figsize=(20,8))\n",
    "g=sns.barplot(x='Country Name',y='gdp_per_hour_worked ($)',data=top_productivity_pc, palette=\"Greens_d\")\n",
    "plt.xticks(rotation=45)\n",
    "#plt.grid(True)\n",
    "plt.title('Top 10 Countries By Productivity GDP Per Hour Worked', size =20)\n",
    "plt.savefig(\"Top_10_Productive.png\")\n",
    "plt.show()"
   ]
  },
  {
   "cell_type": "code",
   "execution_count": null,
   "metadata": {},
   "outputs": [],
   "source": [
    "# Top 10 productive nations\n",
    "group_by_country = coffee_data.groupby([\"Country Name\"])\n",
    "\n",
    "# Mean productivity by coungry\n",
    "productivity_per_person = group_by_country[\"gdp_per_hour_worked ($)\"].mean()\n",
    "productivity_per_person_df = pd.DataFrame(productivity_per_person)\n",
    "#productivity_per_person_df.head()\n",
    "top_productive = productivity_per_person_df.sort_values(\"gdp_per_hour_worked ($)\",\\\n",
    "                                                        ascending = False).head(10).reset_index()\n",
    "#top_productive\n",
    "plt.figure(figsize=(20,8))\n",
    "g=sns.barplot(x='Country Name',y='gdp_per_hour_worked ($)',data=top_productive, palette=\"Blues_d\")\n",
    "\n",
    "for index, row in top_productive.iterrows():\n",
    "    g.text(row.name,row.tip,round(row.['gdp_per_hour_worked ($)'],2), color='black', ha=\"center\")\n",
    "plt.title('Top 10 Countries By Productivity')\n",
    "plt.savefig(\"Top_10_Productive.png\")\n",
    "plt.show()"
   ]
  },
  {
   "cell_type": "markdown",
   "metadata": {},
   "source": [
    "## 5-1. Moved to 5.2\n"
   ]
  },
  {
   "cell_type": "code",
   "execution_count": 67,
   "metadata": {},
   "outputs": [],
   "source": []
  },
  {
   "cell_type": "code",
   "execution_count": 61,
   "metadata": {},
   "outputs": [],
   "source": [
    "\n",
    " "
   ]
  },
  {
   "cell_type": "code",
   "execution_count": 68,
   "metadata": {},
   "outputs": [
    {
     "data": {
      "image/png": "[encoded data removed]",
      "text/plain": [
       "<Figure size 720x432 with 1 Axes>"
      ]
     },
     "metadata": {
      "needs_background": "light"
     },
     "output_type": "display_data"
    }
   ],
   "source": [
    "# define x-axis and y-axis\n",
    "x = coffee_data[\"Coffee Consumed per Capita in Kg\"]\n",
    "y = coffee_data[\"gdp_per_hour_worked\"]\n",
    "\n",
    "\n",
    "x_smaller = x.iloc[x.values < 15]\n",
    "y_smaller = y.loc[x_smaller.index.tolist()]\n",
    "\n",
    "x_larger = x.iloc[x.values >= 15]\n",
    "y_larger = y.iloc[x_larger.index.tolist()]\n",
    "\n",
    "plt.scatter(x, y, s=2, marker='.', alpha=0.5, label=\"Country\")\n",
    "plt.xlabel('Coffee Consumed per Capita in Kg')\n",
    "plt.ylabel('GDP per hour worked in $')\n",
    "plt.legend(loc=\"best\")\n",
    "plt.title('Coffee Consumption Vs. GDP per Hour Worked')\n",
    "# Fit with polyfit\n",
    "b_smaller, m_smaller = polyfit(x_smaller, y_smaller, 1)\n",
    "b_larger, m_larger = polyfit(x_larger, y_larger, 1)\n",
    "\n",
    "plt.plot(x_smaller, y_smaller, '.')\n",
    "plt.plot(x_smaller, b_smaller + m_smaller * x_smaller, '-')\n",
    "\n",
    "plt.plot(x_larger, y_larger, '.')\n",
    "plt.plot(x_larger, b_larger + m_larger * x_larger, '-')\n",
    "\n",
    "plt.show()"
   ]
  },
  {
   "cell_type": "markdown",
   "metadata": {},
   "source": [
    "## 5-2. Correlation of Changes in Coffee Consumption and Productivity: Does the Changes in the Coffee Consumption Correlated with the Changes in Productivity throughout Certain period? (dynamic analysis, Pick countries which show bigger changes in values) \n",
    "use project_data.csv to generate the plot. (scatter plot and regression)\n",
    "\n",
    "x axis = country \n",
    "y axis = gdphrwkd\n",
    "calculate the increased/decreased value of consumption\n",
    "calculate the increased/decreased value of GDPhrwkd\n",
    "ex: all years or 10 years (if plot is too busy) or in some increment (2 years, 5 years)?\n",
    "look for dramatic changes\n",
    "Michael\n"
   ]
  },
  {
   "cell_type": "code",
   "execution_count": null,
   "metadata": {},
   "outputs": [],
   "source": []
  },
  {
   "cell_type": "markdown",
   "metadata": {},
   "source": [
    "# Mean Coffee Consumption and Mean GDPhrwkd\n"
   ]
  },
  {
   "cell_type": "code",
   "execution_count": 6,
   "metadata": {},
   "outputs": [
    {
     "data": {
      "text/html": [
       "<div>\n",
       "<style scoped>\n",
       "    .dataframe tbody tr th:only-of-type {\n",
       "        vertical-align: middle;\n",
       "    }\n",
       "\n",
       "    .dataframe tbody tr th {\n",
       "        vertical-align: top;\n",
       "    }\n",
       "\n",
       "    .dataframe thead th {\n",
       "        text-align: right;\n",
       "    }\n",
       "</style>\n",
       "<table border=\"1\" class=\"dataframe\">\n",
       "  <thead>\n",
       "    <tr style=\"text-align: right;\">\n",
       "      <th></th>\n",
       "      <th>Year</th>\n",
       "      <th>Coffee Consumed</th>\n",
       "      <th>gdp_per_hour_worked</th>\n",
       "    </tr>\n",
       "  </thead>\n",
       "  <tbody>\n",
       "    <tr>\n",
       "      <th>0</th>\n",
       "      <td>1999</td>\n",
       "      <td>2327.862069</td>\n",
       "      <td>36.818621</td>\n",
       "    </tr>\n",
       "    <tr>\n",
       "      <th>1</th>\n",
       "      <td>2000</td>\n",
       "      <td>2224.300000</td>\n",
       "      <td>37.298667</td>\n",
       "    </tr>\n",
       "    <tr>\n",
       "      <th>2</th>\n",
       "      <td>2001</td>\n",
       "      <td>2309.700000</td>\n",
       "      <td>38.066333</td>\n",
       "    </tr>\n",
       "    <tr>\n",
       "      <th>3</th>\n",
       "      <td>2002</td>\n",
       "      <td>2322.266667</td>\n",
       "      <td>38.938667</td>\n",
       "    </tr>\n",
       "    <tr>\n",
       "      <th>4</th>\n",
       "      <td>2003</td>\n",
       "      <td>2401.366667</td>\n",
       "      <td>39.793667</td>\n",
       "    </tr>\n",
       "  </tbody>\n",
       "</table>\n",
       "</div>"
      ],
      "text/plain": [
       "   Year  Coffee Consumed  gdp_per_hour_worked\n",
       "0  1999      2327.862069            36.818621\n",
       "1  2000      2224.300000            37.298667\n",
       "2  2001      2309.700000            38.066333\n",
       "3  2002      2322.266667            38.938667\n",
       "4  2003      2401.366667            39.793667"
      ]
     },
     "execution_count": 6,
     "metadata": {},
     "output_type": "execute_result"
    }
   ],
   "source": [
    "# Some andrew stuff\n",
    "# Trend: Mean coffee and mean gdphrwkd globally\n",
    "agg_mean_coffee = coffee_data.groupby([\"Year\"]).aggregate({'Coffee Consumed':'mean',\n",
    "                                                                          'gdp_per_hour_worked':'mean',\n",
    "                                                                          })\n",
    "\n",
    "coffee_df = agg_mean_coffee.reset_index()\n",
    "coffee_df.head()"
   ]
  },
  {
   "cell_type": "code",
   "execution_count": 7,
   "metadata": {},
   "outputs": [
    {
     "data": {
      "image/png": "[encoded data removed]",
      "text/plain": [
       "<Figure size 432x288 with 1 Axes>"
      ]
     },
     "metadata": {
      "needs_background": "light"
     },
     "output_type": "display_data"
    }
   ],
   "source": [
    "# plotting the lines\n",
    "# We show consumption in hundreds, in order to scale with the \n",
    "\n",
    "x_axis = coffee_df[\"Year\"]\n",
    "coffee_y = coffee_df[\"Coffee Consumed\"]/100\n",
    "gdp_y = coffee_df[\"gdp_per_hour_worked\"]\n",
    "\n",
    "coffee_plt, = plt.plot(x_axis, coffee_y, color='blue', label=\"Mean Coffee Consumption (in hundreds)\")\n",
    "gdp_plt, = plt.plot(x_axis, gdp_y, color='red', label=\"Mean GDP per Hr Worked\")\n",
    "plt.title(\"Coffee Consumption vs GDP per Hr Worked (Mean)\")\n",
    "plt.xlabel(\"Year\")\n",
    "\n",
    "plt.legend(loc=\"right\", framealpha=1)\n",
    "plt.show()"
   ]
  },
  {
   "cell_type": "markdown",
   "metadata": {},
   "source": [
    "## 6-1. Correlation Between Coffee Consumption and Productivity: Is P-Value < 0.05 and Can We Reject Null-Hypothesis(H0)? (Hypothesis Test)\n",
    "P-Value graph\n",
    "\n",
    "\n",
    "Andrew"
   ]
  },
  {
   "cell_type": "code",
   "execution_count": 17,
   "metadata": {},
   "outputs": [],
   "source": [
    "x_axis = coffee_df[\"Year\"]\n",
    "plots = coffee_df[\"gdp_per_hour_worked\"]\n",
    "(slope, intercept, _, _, _) = linregress(x_axis, plots)\n",
    "fit = slope * x_axis + intercept"
   ]
  },
  {
   "cell_type": "code",
   "execution_count": 18,
   "metadata": {
    "scrolled": true
   },
   "outputs": [
    {
     "data": {
      "image/png": "[encoded data removed]",
      "text/plain": [
       "<Figure size 432x288 with 1 Axes>"
      ]
     },
     "metadata": {
      "needs_background": "light"
     },
     "output_type": "display_data"
    }
   ],
   "source": [
    "fig, ax = plt.subplots()\n",
    "\n",
    "fig.suptitle(\"Regression from Mean above\", fontsize=16, fontweight=\"bold\")\n",
    "\n",
    "#ax.set_xlim(0, 1000)\n",
    "#ax.set_ylim(0, 10)\n",
    "\n",
    "ax.set_xlabel(\"Year\")\n",
    "ax.set_ylabel(\"GDP hr wkd\")\n",
    "\n",
    "ax.plot(x_axis, plots, linewidth=0, marker='o')\n",
    "ax.plot(x_axis, fit, 'b--')\n",
    "\n",
    "plt.show()"
   ]
  },
  {
   "cell_type": "code",
   "execution_count": 19,
   "metadata": {},
   "outputs": [],
   "source": [
    "s1 = coffee_df[\"Coffee Consumed\"]/100\n",
    "s2 = coffee_df[\"gdp_per_hour_worked\"]"
   ]
  },
  {
   "cell_type": "code",
   "execution_count": 20,
   "metadata": {},
   "outputs": [
    {
     "name": "stdout",
     "output_type": "stream",
     "text": [
      "t-statistics is -22.680621963678902.\n",
      "p-value is 2.5277418359359207e-14.\n"
     ]
    }
   ],
   "source": [
    "(t_stat, p) = stats.ttest_ind(s1, s2, equal_var=False)\n",
    "print(\"t-statistics is {}.\".format(t_stat))\n",
    "print(\"p-value is {}.\".format(p))"
   ]
  },
  {
   "cell_type": "markdown",
   "metadata": {},
   "source": [
    "## 6-2. Correlation Between the Changes in the Coffee Consumption and the Changes in Productivity: Is P-Value < 0.05 and Can We Reject Null-Hypothesis(H0)? (Hypothesis Test)\n",
    "\n",
    "Different from 6-1. \n",
    "This is for the \"rate of change\" in 5-2\n",
    "Andrew"
   ]
  },
  {
   "cell_type": "code",
   "execution_count": 30,
   "metadata": {},
   "outputs": [
    {
     "data": {
      "text/plain": [
       "(0         NaN\n",
       " 1   -0.044488\n",
       " 2    0.038394\n",
       " 3    0.005441\n",
       " 4    0.034062\n",
       " Name: Coffee Consumed, dtype: float64, 0         NaN\n",
       " 1    0.013038\n",
       " 2    0.020582\n",
       " 3    0.022916\n",
       " 4    0.021958\n",
       " Name: gdp_per_hour_worked, dtype: float64)"
      ]
     },
     "execution_count": 30,
     "metadata": {},
     "output_type": "execute_result"
    }
   ],
   "source": [
    "coffee = coffee_df[\"Coffee Consumed\"]/100\n",
    "gdp = coffee_df[\"gdp_per_hour_worked\"]\n",
    "rc_coffee = coffee.pct_change()\n",
    "rc_gdp = gdp.pct_change()\n",
    "rc_coffee.head(), rc_gdp.head()"
   ]
  },
  {
   "cell_type": "code",
   "execution_count": 31,
   "metadata": {},
   "outputs": [
    {
     "name": "stdout",
     "output_type": "stream",
     "text": [
      "t-statistics is -22.680621963678902.\n",
      "p-value is 2.5277418359359207e-14.\n"
     ]
    }
   ],
   "source": [
    "(t_stat, p) = stats.ttest_ind(coffee, gdp, equal_var=False)\n",
    "print(\"t-statistics is {}.\".format(t_stat))\n",
    "print(\"p-value is {}.\".format(p))"
   ]
  },
  {
   "cell_type": "markdown",
   "metadata": {},
   "source": [
    "## 7. Correlation Between Coffee Consumption and Unemployment: A question needs to be defined (optional)\n",
    "use project_data.csv to generate the plot. \n"
   ]
  },
  {
   "cell_type": "code",
   "execution_count": null,
   "metadata": {},
   "outputs": [],
   "source": []
  },
  {
   "cell_type": "markdown",
   "metadata": {},
   "source": [
    "## 8. World Coffee Major Producers as % of World: Which Countries Produce Coffee? (optional)\n",
    "use exports data from www.ico.org/new_historical.asp to generate the plot.(pie chart or bubble map??)"
   ]
  },
  {
   "cell_type": "code",
   "execution_count": null,
   "metadata": {},
   "outputs": [],
   "source": []
  },
  {
   "cell_type": "markdown",
   "metadata": {},
   "source": [
    "## Conclusions\n",
    "Summary of findings - Andrew"
   ]
  },
  {
   "cell_type": "code",
   "execution_count": null,
   "metadata": {},
   "outputs": [],
   "source": []
  },
  {
   "cell_type": "code",
   "execution_count": null,
   "metadata": {},
   "outputs": [],
   "source": [
    "# DATA Source\n",
    "http://www.ico.org/new_historical.asp\n",
    "https://knoema.com/search?query=coffee&source=HomePage\n",
    "https://www.worldatlas.com/articles/top-10-coffee-consuming-nations.html\n",
    "https://fusiontables.google.com/DataSource?docid=1C-fn6nSe21acP0xJIO1T1x0wohqfMYCQyJjbqdk#rows:id=1\n",
    "https://data.oecd.org/lprdty/gdp-per-hour-worked.htm\n",
    "https://www.oecd-ilibrary.org/employment/data/oecd-productivity-statistics/gdp-per-capita-and-productivity-growth_data-00685-en"
   ]
  }
 ],
 "metadata": {
  "kernelspec": {
   "display_name": "Python 3",
   "language": "python",
   "name": "python3"
  },
  "language_info": {
   "codemirror_mode": {
    "name": "ipython",
    "version": 3
   },
   "file_extension": ".py",
   "mimetype": "text/x-python",
   "name": "python",
   "nbconvert_exporter": "python",
   "pygments_lexer": "ipython3",
   "version": "3.6.6"
  }
 },
 "nbformat": 4,
 "nbformat_minor": 2
}
